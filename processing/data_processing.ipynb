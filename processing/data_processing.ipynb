{
 "cells": [
  {
   "cell_type": "markdown",
   "metadata": {
    "application/vnd.databricks.v1+cell": {
     "cellMetadata": {},
     "inputWidgets": {},
     "nuid": "903654f4-e033-4c6c-a3b7-427d34c4020c",
     "showTitle": false,
     "tableResultSettingsMap": {},
     "title": ""
    }
   },
   "source": [
    "### Stock Market Data processing using Spark Structured Streaming"
   ]
  },
  {
   "cell_type": "markdown",
   "metadata": {
    "application/vnd.databricks.v1+cell": {
     "cellMetadata": {},
     "inputWidgets": {},
     "nuid": "c19d8c6a-0076-4158-87f6-249d47ae7877",
     "showTitle": false,
     "tableResultSettingsMap": {},
     "title": ""
    }
   },
   "source": [
    "#### Set up environment variables"
   ]
  },
  {
   "cell_type": "code",
   "execution_count": 0,
   "metadata": {
    "application/vnd.databricks.v1+cell": {
     "cellMetadata": {
      "byteLimit": 2048000,
      "rowLimit": 10000
     },
     "inputWidgets": {},
     "nuid": "906fffa2-415d-40ac-a526-f8c1a4360310",
     "showTitle": false,
     "tableResultSettingsMap": {},
     "title": ""
    }
   },
   "outputs": [],
   "source": [
    "import os\n",
    "\n",
    "# Set environment variables\n",
    "os.environ[\"KAFKA_BROKER\"] = \"pkc-921jm.us-east-2.aws.confluent.cloud:9092\"\n",
    "os.environ[\"KAFKA_TOPIC\"] = \"market_data_v4\"\n",
    "os.environ[\"KAFKA_TOPIC_PROCESSED\"] = \"processed_data_v4\"\n",
    "os.environ[\"KAFKA_API_KEY\"] = \"VSA47PB5RUOJ5EE6\"\n",
    "os.environ[\"KAFKA_API_SECRET\"] = \"zNZj95TZDIjX5/s3eh4sSmSu/4P/yXS3xmEzN9LR5B0kbSftUbrqzC6DJ6GVnO3l\""
   ]
  },
  {
   "cell_type": "markdown",
   "metadata": {
    "application/vnd.databricks.v1+cell": {
     "cellMetadata": {},
     "inputWidgets": {},
     "nuid": "5dda475b-4197-4991-996e-99bd190fa19b",
     "showTitle": false,
     "tableResultSettingsMap": {},
     "title": ""
    }
   },
   "source": [
    "#### Stream processing"
   ]
  },
  {
   "cell_type": "code",
   "execution_count": 0,
   "metadata": {
    "application/vnd.databricks.v1+cell": {
     "cellMetadata": {
      "byteLimit": 2048000,
      "rowLimit": 10000
     },
     "inputWidgets": {},
     "nuid": "6e3784fe-9832-4ccb-b37b-3ddcb840e2b6",
     "showTitle": false,
     "tableResultSettingsMap": {},
     "title": ""
    }
   },
   "outputs": [],
   "source": [
    "import os\n",
    "from pyspark.sql import SparkSession\n",
    "from pyspark.sql.functions import from_json, col, window, avg\n",
    "from pyspark.sql.types import StructType, StructField, StringType, FloatType\n",
    "\n",
    "# Initialize Spark Session\n",
    "spark = SparkSession.builder \\\n",
    "    .appName(\"Stock Price Streaming\") \\\n",
    "    .getOrCreate()\n",
    "\n",
    "# Kafka configuration\n",
    "kafka_bootstrap_servers = \"pkc-921jm.us-east-2.aws.confluent.cloud:9092\"\n",
    "# os.getenv(\"KAFKA_BROKER\")\n",
    "kafka_topic = \"market_data_v4\"\n",
    "# os.getenv(\"KAFKA_TOPIC\")\n",
    "kafka_topic_processed = \"processed_data_v4\"\n",
    "# os.getenv(\"KAFKA_TOPIC_PROCESSED\")\n",
    "checkpoint_location = \"/mnt/checkpoint/kafka_sink_v4\"\n",
    "\n",
    "kafka_config = {\n",
    "    'kafka.bootstrap.servers': kafka_bootstrap_servers,\n",
    "    'subscribe': kafka_topic,\n",
    "    'startingOffsets': 'earliest',  # Start from the earliest message\n",
    "    'kafka.security.protocol': 'SASL_SSL',\n",
    "    'kafka.sasl.mechanism': 'PLAIN',\n",
    "    \"failOnDataLoss\": \"false\",\n",
    "    \"kafka.ssl.endpoint.identification.algorithm\": \"https\",\n",
    "    'kafka.sasl.jaas.config': f'kafkashaded.org.apache.kafka.common.security.plain.PlainLoginModule required username=\"{os.getenv(\"KAFKA_API_KEY\")}\" password=\"{os.getenv(\"KAFKA_API_SECRET\")}\";',\n",
    "}\n",
    "\n",
    "# Define schema for incoming data\n",
    "schema = StructType([\n",
    "    StructField(\"timestamp\", StringType(), True),\n",
    "    StructField(\"price\", FloatType(), True),\n",
    "    StructField(\"ticker\", StringType(), True)\n",
    "])\n",
    "\n",
    "# Read data from Kafka\n",
    "raw_stream = spark.readStream \\\n",
    "    .format(\"kafka\") \\\n",
    "    .options(**kafka_config) \\\n",
    "    .load()\n",
    "\n",
    "# Parse JSON data\n",
    "parsed_stream = raw_stream.selectExpr(\"CAST(value AS STRING)\") \\\n",
    "    .select(from_json(col(\"value\"), schema).alias(\"data\")) \\\n",
    "    .select(\"data.*\")\n",
    "\n",
    "# Repartition the stream to ensure all data for the same ticker is processed in a single executor\n",
    "parsed_stream = parsed_stream.repartition(\"ticker\")\n",
    "\n",
    "\n",
    "# Transformation: Calculate average price over a 1-minute window\n",
    "average_price_stream = parsed_stream.withColumn(\"timestamp\", col(\"timestamp\").cast(\"timestamp\")).withWatermark(\"timestamp\", \"2 minutes\").groupBy(window(col(\"timestamp\"), \"1 minute\"), col(\"ticker\")).agg(avg(\"price\").alias(\"average_price\"))\n",
    "\n",
    "\n",
    "# Prepare DataFrame for Kafka\n",
    "kafka_df = average_price_stream.selectExpr(\n",
    "    \"CAST(ticker AS STRING) AS key\",\n",
    "    \"to_json(struct(window.start AS window_start, window.end AS window_end, ticker, average_price)) AS value\"\n",
    ")\n",
    "\n",
    "# Write the DataFrame to Kafka\n",
    "query = kafka_df.writeStream \\\n",
    "    .format(\"kafka\") \\\n",
    "    .option(\"kafka.bootstrap.servers\", kafka_bootstrap_servers) \\\n",
    "    .option(\"topic\", kafka_topic_processed) \\\n",
    "    .option(\"checkpointLocation\", checkpoint_location) \\\n",
    "    .option(\"kafka.sasl.mechanism\", \"PLAIN\") \\\n",
    "    .option(\"kafka.security.protocol\", \"SASL_SSL\") \\\n",
    "    .option(\"kafka.sasl.jaas.config\", f'kafkashaded.org.apache.kafka.common.security.plain.PlainLoginModule required username=\"{os.getenv(\"KAFKA_API_KEY\")}\" password=\"{os.getenv(\"KAFKA_API_SECRET\")}\";')\\\n",
    "    .outputMode(\"update\") \\\n",
    "    .start()\n",
    "\n"
   ]
  },
  {
   "cell_type": "markdown",
   "metadata": {
    "application/vnd.databricks.v1+cell": {
     "cellMetadata": {},
     "inputWidgets": {},
     "nuid": "33c7aba3-6cd5-48b5-b434-d5998f4e3ac0",
     "showTitle": false,
     "tableResultSettingsMap": {},
     "title": ""
    }
   },
   "source": [
    "#### Live Dashboard on Databricks"
   ]
  },
  {
   "cell_type": "code",
   "execution_count": 0,
   "metadata": {
    "application/vnd.databricks.v1+cell": {
     "cellMetadata": {
      "byteLimit": 2048000,
      "rowLimit": 10000
     },
     "inputWidgets": {},
     "nuid": "8208762a-457c-4352-b5a4-2e5e3e2f1878",
     "showTitle": false,
     "tableResultSettingsMap": {},
     "title": ""
    }
   },
   "outputs": [],
   "source": [
    "average_price_stream_formated = average_price_stream \\\n",
    "    .withColumn(\"window.start\", col(\"window.start\").cast(\"timestamp\")) \n"
   ]
  },
  {
   "cell_type": "code",
   "execution_count": 0,
   "metadata": {
    "application/vnd.databricks.v1+cell": {
     "cellMetadata": {
      "byteLimit": 2048000,
      "rowLimit": 10000
     },
     "inputWidgets": {},
     "nuid": "576a1aa1-7e6f-4567-8d41-1de10c58e5e5",
     "showTitle": false,
     "tableResultSettingsMap": {},
     "title": ""
    }
   },
   "outputs": [
    {
     "output_type": "display_data",
     "data": {
      "text/html": [
       "<style scoped>\n",
       "  .table-result-container {\n",
       "    max-height: 300px;\n",
       "    overflow: auto;\n",
       "  }\n",
       "  table, th, td {\n",
       "    border: 1px solid black;\n",
       "    border-collapse: collapse;\n",
       "  }\n",
       "  th, td {\n",
       "    padding: 5px;\n",
       "  }\n",
       "  th {\n",
       "    text-align: left;\n",
       "  }\n",
       "</style><div class='table-result-container'><table class='table-result'><thead style='background-color: white'><tr><th>window</th><th>ticker</th><th>average_price</th><th>window.start</th></tr></thead><tbody><tr><td>List(2024-12-21T08:45:00Z, 2024-12-21T08:46:00Z)</td><td>IBM</td><td>87.25333340962727</td><td>2024-12-21T08:45:00Z</td></tr><tr><td>List(2024-12-21T08:27:00Z, 2024-12-21T08:28:00Z)</td><td>IBM</td><td>107.16249974568684</td><td>2024-12-21T08:27:00Z</td></tr><tr><td>List(2024-12-21T08:31:00Z, 2024-12-21T08:32:00Z)</td><td>IBM</td><td>117.46333249409993</td><td>2024-12-21T08:31:00Z</td></tr><tr><td>List(2024-12-21T09:05:00Z, 2024-12-21T09:06:00Z)</td><td>IBM</td><td>80.43333307902019</td><td>2024-12-21T09:05:00Z</td></tr><tr><td>List(2024-12-21T08:33:00Z, 2024-12-21T08:34:00Z)</td><td>IBM</td><td>90.40333239237468</td><td>2024-12-21T08:33:00Z</td></tr><tr><td>List(2024-12-21T08:38:00Z, 2024-12-21T08:39:00Z)</td><td>IBM</td><td>94.07249959309895</td><td>2024-12-21T08:38:00Z</td></tr><tr><td>List(2024-12-21T09:00:00Z, 2024-12-21T09:01:00Z)</td><td>IBM</td><td>81.95499992370605</td><td>2024-12-21T09:00:00Z</td></tr><tr><td>List(2024-12-21T08:36:00Z, 2024-12-21T08:37:00Z)</td><td>IBM</td><td>115.54166475931804</td><td>2024-12-21T08:36:00Z</td></tr><tr><td>List(2024-12-21T08:52:00Z, 2024-12-21T08:53:00Z)</td><td>IBM</td><td>119.61750030517578</td><td>2024-12-21T08:52:00Z</td></tr><tr><td>List(2024-12-21T08:28:00Z, 2024-12-21T08:29:00Z)</td><td>IBM</td><td>84.56333287556966</td><td>2024-12-21T08:28:00Z</td></tr><tr><td>List(2024-12-21T08:32:00Z, 2024-12-21T08:33:00Z)</td><td>IBM</td><td>111.19166692097981</td><td>2024-12-21T08:32:00Z</td></tr><tr><td>List(2024-12-21T08:48:00Z, 2024-12-21T08:49:00Z)</td><td>IBM</td><td>106.73333231608073</td><td>2024-12-21T08:48:00Z</td></tr><tr><td>List(2024-12-21T08:41:00Z, 2024-12-21T08:42:00Z)</td><td>IBM</td><td>113.32916641235352</td><td>2024-12-21T08:41:00Z</td></tr><tr><td>List(2024-12-21T08:19:00Z, 2024-12-21T08:20:00Z)</td><td>IBM</td><td>96.22000122070312</td><td>2024-12-21T08:19:00Z</td></tr><tr><td>List(2024-12-21T08:44:00Z, 2024-12-21T08:45:00Z)</td><td>IBM</td><td>82.60416666666667</td><td>2024-12-21T08:44:00Z</td></tr><tr><td>List(2024-12-21T08:34:00Z, 2024-12-21T08:35:00Z)</td><td>IBM</td><td>82.2274996439616</td><td>2024-12-21T08:34:00Z</td></tr><tr><td>List(2024-12-21T08:26:00Z, 2024-12-21T08:27:00Z)</td><td>IBM</td><td>118.28416633605957</td><td>2024-12-21T08:26:00Z</td></tr><tr><td>List(2024-12-21T08:39:00Z, 2024-12-21T08:40:00Z)</td><td>IBM</td><td>80.89499982198079</td><td>2024-12-21T08:39:00Z</td></tr><tr><td>List(2024-12-21T08:57:00Z, 2024-12-21T08:58:00Z)</td><td>IBM</td><td>117.7450008392334</td><td>2024-12-21T08:57:00Z</td></tr><tr><td>List(2024-12-21T08:23:00Z, 2024-12-21T08:24:00Z)</td><td>IBM</td><td>83.15166664123535</td><td>2024-12-21T08:23:00Z</td></tr><tr><td>List(2024-12-21T08:24:00Z, 2024-12-21T08:25:00Z)</td><td>IBM</td><td>86.94750022888184</td><td>2024-12-21T08:24:00Z</td></tr><tr><td>List(2024-12-21T08:51:00Z, 2024-12-21T08:52:00Z)</td><td>IBM</td><td>102.4208329518636</td><td>2024-12-21T08:51:00Z</td></tr><tr><td>List(2024-12-21T08:30:00Z, 2024-12-21T08:31:00Z)</td><td>IBM</td><td>103.5641663869222</td><td>2024-12-21T08:30:00Z</td></tr><tr><td>List(2024-12-21T09:03:00Z, 2024-12-21T09:04:00Z)</td><td>IBM</td><td>117.57750002543132</td><td>2024-12-21T09:03:00Z</td></tr><tr><td>List(2024-12-21T08:29:00Z, 2024-12-21T08:30:00Z)</td><td>IBM</td><td>83.78333282470703</td><td>2024-12-21T08:29:00Z</td></tr><tr><td>List(2024-12-21T09:10:00Z, 2024-12-21T09:11:00Z)</td><td>IBM</td><td>89.47166697184245</td><td>2024-12-21T09:10:00Z</td></tr><tr><td>List(2024-12-21T09:07:00Z, 2024-12-21T09:08:00Z)</td><td>IBM</td><td>109.60999997456868</td><td>2024-12-21T09:07:00Z</td></tr><tr><td>List(2024-12-21T09:02:00Z, 2024-12-21T09:03:00Z)</td><td>IBM</td><td>113.2058334350586</td><td>2024-12-21T09:02:00Z</td></tr><tr><td>List(2024-12-21T08:20:00Z, 2024-12-21T08:21:00Z)</td><td>IBM</td><td>111.53416570027669</td><td>2024-12-21T08:20:00Z</td></tr><tr><td>List(2024-12-21T08:42:00Z, 2024-12-21T08:43:00Z)</td><td>IBM</td><td>117.15416590372722</td><td>2024-12-21T08:42:00Z</td></tr><tr><td>List(2024-12-21T08:56:00Z, 2024-12-21T08:57:00Z)</td><td>IBM</td><td>97.51000150044759</td><td>2024-12-21T08:56:00Z</td></tr><tr><td>List(2024-12-21T09:09:00Z, 2024-12-21T09:10:00Z)</td><td>IBM</td><td>104.50333340962727</td><td>2024-12-21T09:09:00Z</td></tr><tr><td>List(2024-12-21T08:50:00Z, 2024-12-21T08:51:00Z)</td><td>IBM</td><td>84.69583384195964</td><td>2024-12-21T08:50:00Z</td></tr><tr><td>List(2024-12-21T08:59:00Z, 2024-12-21T09:00:00Z)</td><td>IBM</td><td>94.7899996439616</td><td>2024-12-21T08:59:00Z</td></tr><tr><td>List(2024-12-21T08:47:00Z, 2024-12-21T08:48:00Z)</td><td>IBM</td><td>118.23833401997884</td><td>2024-12-21T08:47:00Z</td></tr><tr><td>List(2024-12-21T08:58:00Z, 2024-12-21T08:59:00Z)</td><td>IBM</td><td>113.7758337656657</td><td>2024-12-21T08:58:00Z</td></tr><tr><td>List(2024-12-21T08:49:00Z, 2024-12-21T08:50:00Z)</td><td>IBM</td><td>85.4816665649414</td><td>2024-12-21T08:49:00Z</td></tr><tr><td>List(2024-12-21T08:55:00Z, 2024-12-21T08:56:00Z)</td><td>IBM</td><td>80.76083374023438</td><td>2024-12-21T08:55:00Z</td></tr><tr><td>List(2024-12-21T08:21:00Z, 2024-12-21T08:22:00Z)</td><td>IBM</td><td>117.89083353678386</td><td>2024-12-21T08:21:00Z</td></tr><tr><td>List(2024-12-21T09:06:00Z, 2024-12-21T09:07:00Z)</td><td>IBM</td><td>87.23000017801921</td><td>2024-12-21T09:06:00Z</td></tr><tr><td>List(2024-12-21T08:37:00Z, 2024-12-21T08:38:00Z)</td><td>IBM</td><td>115.87250010172527</td><td>2024-12-21T08:37:00Z</td></tr><tr><td>List(2024-12-21T08:43:00Z, 2024-12-21T08:44:00Z)</td><td>IBM</td><td>99.54416720072429</td><td>2024-12-21T08:43:00Z</td></tr><tr><td>List(2024-12-21T08:22:00Z, 2024-12-21T08:23:00Z)</td><td>IBM</td><td>101.45083363850911</td><td>2024-12-21T08:22:00Z</td></tr><tr><td>List(2024-12-21T09:01:00Z, 2024-12-21T09:02:00Z)</td><td>IBM</td><td>92.86499977111816</td><td>2024-12-21T09:01:00Z</td></tr><tr><td>List(2024-12-21T08:35:00Z, 2024-12-21T08:36:00Z)</td><td>IBM</td><td>93.92916615804036</td><td>2024-12-21T08:35:00Z</td></tr><tr><td>List(2024-12-21T09:04:00Z, 2024-12-21T09:05:00Z)</td><td>IBM</td><td>98.9491678873698</td><td>2024-12-21T09:04:00Z</td></tr><tr><td>List(2024-12-21T08:46:00Z, 2024-12-21T08:47:00Z)</td><td>IBM</td><td>106.95083363850911</td><td>2024-12-21T08:46:00Z</td></tr><tr><td>List(2024-12-21T09:08:00Z, 2024-12-21T09:09:00Z)</td><td>IBM</td><td>119.84833399454753</td><td>2024-12-21T09:08:00Z</td></tr><tr><td>List(2024-12-21T08:53:00Z, 2024-12-21T08:54:00Z)</td><td>IBM</td><td>109.86083285013835</td><td>2024-12-21T08:53:00Z</td></tr><tr><td>List(2024-12-21T08:54:00Z, 2024-12-21T08:55:00Z)</td><td>IBM</td><td>89.28749974568684</td><td>2024-12-21T08:54:00Z</td></tr><tr><td>List(2024-12-21T08:25:00Z, 2024-12-21T08:26:00Z)</td><td>IBM</td><td>105.9691670735677</td><td>2024-12-21T08:25:00Z</td></tr><tr><td>List(2024-12-21T08:40:00Z, 2024-12-21T08:41:00Z)</td><td>IBM</td><td>90.13583374023438</td><td>2024-12-21T08:40:00Z</td></tr></tbody></table></div>"
      ]
     },
     "metadata": {
      "application/vnd.databricks.v1+output": {
       "addedWidgets": {},
       "aggData": [],
       "aggError": "",
       "aggOverflow": false,
       "aggSchema": [],
       "aggSeriesLimitReached": false,
       "aggType": "",
       "arguments": {},
       "columnCustomDisplayInfos": {},
       "data": [
        [
         [
          "2024-12-21T08:45:00Z",
          "2024-12-21T08:46:00Z"
         ],
         "IBM",
         87.25333340962727,
         "2024-12-21T08:45:00Z"
        ],
        [
         [
          "2024-12-21T08:27:00Z",
          "2024-12-21T08:28:00Z"
         ],
         "IBM",
         107.16249974568684,
         "2024-12-21T08:27:00Z"
        ],
        [
         [
          "2024-12-21T08:31:00Z",
          "2024-12-21T08:32:00Z"
         ],
         "IBM",
         117.46333249409993,
         "2024-12-21T08:31:00Z"
        ],
        [
         [
          "2024-12-21T09:05:00Z",
          "2024-12-21T09:06:00Z"
         ],
         "IBM",
         80.43333307902019,
         "2024-12-21T09:05:00Z"
        ],
        [
         [
          "2024-12-21T08:33:00Z",
          "2024-12-21T08:34:00Z"
         ],
         "IBM",
         90.40333239237468,
         "2024-12-21T08:33:00Z"
        ],
        [
         [
          "2024-12-21T08:38:00Z",
          "2024-12-21T08:39:00Z"
         ],
         "IBM",
         94.07249959309895,
         "2024-12-21T08:38:00Z"
        ],
        [
         [
          "2024-12-21T09:00:00Z",
          "2024-12-21T09:01:00Z"
         ],
         "IBM",
         81.95499992370605,
         "2024-12-21T09:00:00Z"
        ],
        [
         [
          "2024-12-21T08:36:00Z",
          "2024-12-21T08:37:00Z"
         ],
         "IBM",
         115.54166475931804,
         "2024-12-21T08:36:00Z"
        ],
        [
         [
          "2024-12-21T08:52:00Z",
          "2024-12-21T08:53:00Z"
         ],
         "IBM",
         119.61750030517578,
         "2024-12-21T08:52:00Z"
        ],
        [
         [
          "2024-12-21T08:28:00Z",
          "2024-12-21T08:29:00Z"
         ],
         "IBM",
         84.56333287556966,
         "2024-12-21T08:28:00Z"
        ],
        [
         [
          "2024-12-21T08:32:00Z",
          "2024-12-21T08:33:00Z"
         ],
         "IBM",
         111.19166692097981,
         "2024-12-21T08:32:00Z"
        ],
        [
         [
          "2024-12-21T08:48:00Z",
          "2024-12-21T08:49:00Z"
         ],
         "IBM",
         106.73333231608073,
         "2024-12-21T08:48:00Z"
        ],
        [
         [
          "2024-12-21T08:41:00Z",
          "2024-12-21T08:42:00Z"
         ],
         "IBM",
         113.32916641235352,
         "2024-12-21T08:41:00Z"
        ],
        [
         [
          "2024-12-21T08:19:00Z",
          "2024-12-21T08:20:00Z"
         ],
         "IBM",
         96.22000122070312,
         "2024-12-21T08:19:00Z"
        ],
        [
         [
          "2024-12-21T08:44:00Z",
          "2024-12-21T08:45:00Z"
         ],
         "IBM",
         82.60416666666667,
         "2024-12-21T08:44:00Z"
        ],
        [
         [
          "2024-12-21T08:34:00Z",
          "2024-12-21T08:35:00Z"
         ],
         "IBM",
         82.2274996439616,
         "2024-12-21T08:34:00Z"
        ],
        [
         [
          "2024-12-21T08:26:00Z",
          "2024-12-21T08:27:00Z"
         ],
         "IBM",
         118.28416633605957,
         "2024-12-21T08:26:00Z"
        ],
        [
         [
          "2024-12-21T08:39:00Z",
          "2024-12-21T08:40:00Z"
         ],
         "IBM",
         80.89499982198079,
         "2024-12-21T08:39:00Z"
        ],
        [
         [
          "2024-12-21T08:57:00Z",
          "2024-12-21T08:58:00Z"
         ],
         "IBM",
         117.7450008392334,
         "2024-12-21T08:57:00Z"
        ],
        [
         [
          "2024-12-21T08:23:00Z",
          "2024-12-21T08:24:00Z"
         ],
         "IBM",
         83.15166664123535,
         "2024-12-21T08:23:00Z"
        ],
        [
         [
          "2024-12-21T08:24:00Z",
          "2024-12-21T08:25:00Z"
         ],
         "IBM",
         86.94750022888184,
         "2024-12-21T08:24:00Z"
        ],
        [
         [
          "2024-12-21T08:51:00Z",
          "2024-12-21T08:52:00Z"
         ],
         "IBM",
         102.4208329518636,
         "2024-12-21T08:51:00Z"
        ],
        [
         [
          "2024-12-21T08:30:00Z",
          "2024-12-21T08:31:00Z"
         ],
         "IBM",
         103.5641663869222,
         "2024-12-21T08:30:00Z"
        ],
        [
         [
          "2024-12-21T09:03:00Z",
          "2024-12-21T09:04:00Z"
         ],
         "IBM",
         117.57750002543132,
         "2024-12-21T09:03:00Z"
        ],
        [
         [
          "2024-12-21T08:29:00Z",
          "2024-12-21T08:30:00Z"
         ],
         "IBM",
         83.78333282470703,
         "2024-12-21T08:29:00Z"
        ],
        [
         [
          "2024-12-21T09:10:00Z",
          "2024-12-21T09:11:00Z"
         ],
         "IBM",
         89.47166697184245,
         "2024-12-21T09:10:00Z"
        ],
        [
         [
          "2024-12-21T09:07:00Z",
          "2024-12-21T09:08:00Z"
         ],
         "IBM",
         109.60999997456868,
         "2024-12-21T09:07:00Z"
        ],
        [
         [
          "2024-12-21T09:02:00Z",
          "2024-12-21T09:03:00Z"
         ],
         "IBM",
         113.2058334350586,
         "2024-12-21T09:02:00Z"
        ],
        [
         [
          "2024-12-21T08:20:00Z",
          "2024-12-21T08:21:00Z"
         ],
         "IBM",
         111.53416570027669,
         "2024-12-21T08:20:00Z"
        ],
        [
         [
          "2024-12-21T08:42:00Z",
          "2024-12-21T08:43:00Z"
         ],
         "IBM",
         117.15416590372722,
         "2024-12-21T08:42:00Z"
        ],
        [
         [
          "2024-12-21T08:56:00Z",
          "2024-12-21T08:57:00Z"
         ],
         "IBM",
         97.51000150044759,
         "2024-12-21T08:56:00Z"
        ],
        [
         [
          "2024-12-21T09:09:00Z",
          "2024-12-21T09:10:00Z"
         ],
         "IBM",
         104.50333340962727,
         "2024-12-21T09:09:00Z"
        ],
        [
         [
          "2024-12-21T08:50:00Z",
          "2024-12-21T08:51:00Z"
         ],
         "IBM",
         84.69583384195964,
         "2024-12-21T08:50:00Z"
        ],
        [
         [
          "2024-12-21T08:59:00Z",
          "2024-12-21T09:00:00Z"
         ],
         "IBM",
         94.7899996439616,
         "2024-12-21T08:59:00Z"
        ],
        [
         [
          "2024-12-21T08:47:00Z",
          "2024-12-21T08:48:00Z"
         ],
         "IBM",
         118.23833401997884,
         "2024-12-21T08:47:00Z"
        ],
        [
         [
          "2024-12-21T08:58:00Z",
          "2024-12-21T08:59:00Z"
         ],
         "IBM",
         113.7758337656657,
         "2024-12-21T08:58:00Z"
        ],
        [
         [
          "2024-12-21T08:49:00Z",
          "2024-12-21T08:50:00Z"
         ],
         "IBM",
         85.4816665649414,
         "2024-12-21T08:49:00Z"
        ],
        [
         [
          "2024-12-21T08:55:00Z",
          "2024-12-21T08:56:00Z"
         ],
         "IBM",
         80.76083374023438,
         "2024-12-21T08:55:00Z"
        ],
        [
         [
          "2024-12-21T08:21:00Z",
          "2024-12-21T08:22:00Z"
         ],
         "IBM",
         117.89083353678386,
         "2024-12-21T08:21:00Z"
        ],
        [
         [
          "2024-12-21T09:06:00Z",
          "2024-12-21T09:07:00Z"
         ],
         "IBM",
         87.23000017801921,
         "2024-12-21T09:06:00Z"
        ],
        [
         [
          "2024-12-21T08:37:00Z",
          "2024-12-21T08:38:00Z"
         ],
         "IBM",
         115.87250010172527,
         "2024-12-21T08:37:00Z"
        ],
        [
         [
          "2024-12-21T08:43:00Z",
          "2024-12-21T08:44:00Z"
         ],
         "IBM",
         99.54416720072429,
         "2024-12-21T08:43:00Z"
        ],
        [
         [
          "2024-12-21T08:22:00Z",
          "2024-12-21T08:23:00Z"
         ],
         "IBM",
         101.45083363850911,
         "2024-12-21T08:22:00Z"
        ],
        [
         [
          "2024-12-21T09:01:00Z",
          "2024-12-21T09:02:00Z"
         ],
         "IBM",
         92.86499977111816,
         "2024-12-21T09:01:00Z"
        ],
        [
         [
          "2024-12-21T08:35:00Z",
          "2024-12-21T08:36:00Z"
         ],
         "IBM",
         93.92916615804036,
         "2024-12-21T08:35:00Z"
        ],
        [
         [
          "2024-12-21T09:04:00Z",
          "2024-12-21T09:05:00Z"
         ],
         "IBM",
         98.9491678873698,
         "2024-12-21T09:04:00Z"
        ],
        [
         [
          "2024-12-21T08:46:00Z",
          "2024-12-21T08:47:00Z"
         ],
         "IBM",
         106.95083363850911,
         "2024-12-21T08:46:00Z"
        ],
        [
         [
          "2024-12-21T09:08:00Z",
          "2024-12-21T09:09:00Z"
         ],
         "IBM",
         119.84833399454753,
         "2024-12-21T09:08:00Z"
        ],
        [
         [
          "2024-12-21T08:53:00Z",
          "2024-12-21T08:54:00Z"
         ],
         "IBM",
         109.86083285013835,
         "2024-12-21T08:53:00Z"
        ],
        [
         [
          "2024-12-21T08:54:00Z",
          "2024-12-21T08:55:00Z"
         ],
         "IBM",
         89.28749974568684,
         "2024-12-21T08:54:00Z"
        ],
        [
         [
          "2024-12-21T08:25:00Z",
          "2024-12-21T08:26:00Z"
         ],
         "IBM",
         105.9691670735677,
         "2024-12-21T08:25:00Z"
        ],
        [
         [
          "2024-12-21T08:40:00Z",
          "2024-12-21T08:41:00Z"
         ],
         "IBM",
         90.13583374023438,
         "2024-12-21T08:40:00Z"
        ]
       ],
       "datasetInfos": [],
       "dbfsResultPath": null,
       "isJsonSchema": true,
       "metadata": {
        "isDbfsCommandResult": false
       },
       "overflow": false,
       "plotOptions": {
        "customPlotOptions": {},
        "displayType": "table",
        "pivotAggregation": null,
        "pivotColumns": null,
        "xColumns": null,
        "yColumns": null
       },
       "removedWidgets": [],
       "schema": [
        {
         "metadata": "{\"spark.timeWindow\":true,\"spark.watermarkDelayMs\":120000}",
         "name": "window",
         "type": "{\"type\":\"struct\",\"fields\":[{\"name\":\"start\",\"type\":\"timestamp\",\"nullable\":true,\"metadata\":{}},{\"name\":\"end\",\"type\":\"timestamp\",\"nullable\":true,\"metadata\":{}}]}"
        },
        {
         "metadata": "{}",
         "name": "ticker",
         "type": "\"string\""
        },
        {
         "metadata": "{}",
         "name": "average_price",
         "type": "\"double\""
        },
        {
         "metadata": "{}",
         "name": "window.start",
         "type": "\"timestamp\""
        }
       ],
       "type": "table"
      }
     },
     "output_type": "display_data"
    },
    {
     "output_type": "display_data",
     "data": {
      "text/plain": [
       "Databricks visualization. Run in Databricks to view."
      ]
     },
     "metadata": {
      "application/vnd.databricks.v1.subcommand+json": {
       "baseErrorDetails": null,
       "bindings": {},
       "collapsed": false,
       "command": "# Databricks no-op command",
       "commandTitle": "live Stock Pricing",
       "commandType": "auto",
       "commandVersion": 0,
       "commentThread": [],
       "commentsVisible": false,
       "contentSha256Hex": null,
       "customPlotOptions": {
        "redashChart": [
         {
          "key": "type",
          "value": "CHART"
         },
         {
          "key": "options",
          "value": {
           "alignYAxesAtZero": true,
           "coefficient": 1,
           "columnConfigurationMap": {
            "x": {
             "column": "window.start",
             "id": "column_8c470565162",
             "transform": "SECOND_LEVEL"
            },
            "y": [
             {
              "column": "average_price",
              "id": "column_8c470565164",
              "transform": "SUM"
             }
            ]
           },
           "dateTimeFormat": "DD/MM/YYYY HH:mm",
           "direction": {
            "type": "counterclockwise"
           },
           "error_y": {
            "type": "data",
            "visible": true
           },
           "globalSeriesType": "line",
           "isAggregationOn": true,
           "legend": {
            "traceorder": "normal"
           },
           "missingValuesAsZero": true,
           "numberFormat": "0,0.[00000]",
           "percentFormat": "0[.]00%",
           "series": {
            "error_y": {
             "type": "data",
             "visible": true
            },
            "stacking": null
           },
           "seriesOptions": {
            "column_8c470565164": {
             "type": "line",
             "yAxis": 0
            }
           },
           "showDataLabels": false,
           "sizemode": "diameter",
           "sortX": true,
           "sortY": true,
           "swappedAxes": false,
           "textFormat": "",
           "useAggregationsUi": true,
           "valuesOptions": {},
           "version": 2,
           "xAxis": {
            "labels": {
             "enabled": true
            },
            "type": "-"
           },
           "yAxis": [
            {
             "type": "-"
            },
            {
             "opposite": true,
             "type": "-"
            }
           ]
          }
         }
        ]
       },
       "datasetPreviewNameToCmdIdMap": {},
       "diffDeletes": [],
       "diffInserts": [],
       "displayType": "redashChart",
       "error": null,
       "errorDetails": null,
       "errorSummary": null,
       "errorTraceType": null,
       "finishTime": 0,
       "globalVars": {},
       "guid": "",
       "height": "auto",
       "hideCommandCode": false,
       "hideCommandResult": false,
       "iPythonMetadata": null,
       "inputWidgets": {},
       "isLockedInExamMode": false,
       "latestUser": "a user",
       "latestUserId": null,
       "listResultMetadata": null,
       "metadata": {},
       "nuid": "3afdee34-9c9f-4163-9074-6a8ba8e60027",
       "origId": 0,
       "parentHierarchy": [],
       "pivotAggregation": null,
       "pivotColumns": null,
       "position": 3.78125,
       "resultDbfsErrorMessage": null,
       "resultDbfsStatus": "INLINED_IN_TREE",
       "results": null,
       "showCommandTitle": false,
       "startTime": 0,
       "state": "input",
       "streamStates": {},
       "subcommandOptions": {
        "queryPlan": {
         "groups": [
          {
           "column": "column_8c470565162",
           "type": "column"
          }
         ],
         "selects": [
          {
           "alias": "column_8c470565162",
           "args": [
            {
             "column": "window.start",
             "type": "column"
            },
            {
             "string": "SECOND",
             "type": "string"
            }
           ],
           "function": "DATE_TRUNC",
           "type": "function"
          },
          {
           "alias": "column_8c470565164",
           "args": [
            {
             "column": "average_price",
             "type": "column"
            }
           ],
           "function": "SUM",
           "type": "function"
          }
         ]
        }
       },
       "submitTime": 0,
       "subtype": "tableResultSubCmd.visualization",
       "tableResultIndex": 0,
       "tableResultSettingsMap": {},
       "useConsistentColors": false,
       "version": "CommandV1",
       "width": "auto",
       "workflows": [],
       "xColumns": null,
       "yColumns": null
      }
     },
     "output_type": "display_data"
    }
   ],
   "source": [
    "display(average_price_stream_formated)"
   ]
  }
 ],
 "metadata": {
  "application/vnd.databricks.v1+notebook": {
   "computePreferences": null,
   "dashboards": [
    {
     "elements": [],
     "globalVars": {},
     "guid": "",
     "layoutOption": {
      "grid": true,
      "stack": true
     },
     "nuid": "7eb208f8-80a9-4f42-b7a4-2eac6e45eee4",
     "origId": 3450878658738974,
     "title": "Untitled",
     "version": "DashboardViewV1",
     "width": 1024
    },
    {
     "elements": [
      {
       "dashboardResultIndex": null,
       "elementNUID": "3afdee34-9c9f-4163-9074-6a8ba8e60027",
       "elementType": "command",
       "guid": "f59dfd57-b146-4eee-8a51-4f999dcc590e",
       "options": null,
       "position": {
        "height": 6,
        "width": 12,
        "x": 0,
        "y": 0,
        "z": null
       },
       "resultIndex": null
      }
     ],
     "globalVars": {},
     "guid": "",
     "layoutOption": {
      "grid": true,
      "stack": true
     },
     "nuid": "d0018370-b2cf-4bd1-901f-4c518770435c",
     "origId": 3450878658738975,
     "title": "Untitled",
     "version": "DashboardViewV1",
     "width": 1024
    }
   ],
   "environmentMetadata": null,
   "language": "python",
   "notebookMetadata": {
    "pythonIndentUnit": 2
   },
   "notebookName": "data_processing_v2",
   "widgets": {}
  }
 },
 "nbformat": 4,
 "nbformat_minor": 0
}
