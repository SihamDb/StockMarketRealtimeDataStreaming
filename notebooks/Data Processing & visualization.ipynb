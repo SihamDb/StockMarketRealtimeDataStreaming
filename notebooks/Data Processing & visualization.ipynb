{
 "cells": [
  {
   "cell_type": "markdown",
   "metadata": {
    "application/vnd.databricks.v1+cell": {
     "cellMetadata": {
      "byteLimit": 2048000,
      "rowLimit": 10000
     },
     "inputWidgets": {},
     "nuid": "903654f4-e033-4c6c-a3b7-427d34c4020c",
     "showTitle": false,
     "tableResultSettingsMap": {},
     "title": ""
    }
   },
   "source": [
    "### Stock Market Data processing using Spark Structured Streaming"
   ]
  },
  {
   "cell_type": "markdown",
   "metadata": {
    "application/vnd.databricks.v1+cell": {
     "cellMetadata": {
      "byteLimit": 2048000,
      "rowLimit": 10000
     },
     "inputWidgets": {},
     "nuid": "c19d8c6a-0076-4158-87f6-249d47ae7877",
     "showTitle": false,
     "tableResultSettingsMap": {},
     "title": ""
    }
   },
   "source": [
    "#### Setting the Environment Variables\n",
    "\n",
    "##### Defining variables such as the Kafka Broker in Confluent, Kafka Topics, and API Keys.\n"
   ]
  },
  {
   "cell_type": "code",
   "execution_count": 0,
   "metadata": {
    "application/vnd.databricks.v1+cell": {
     "cellMetadata": {
      "byteLimit": 2048000,
      "rowLimit": 10000
     },
     "inputWidgets": {},
     "nuid": "906fffa2-415d-40ac-a526-f8c1a4360310",
     "showTitle": false,
     "tableResultSettingsMap": {},
     "title": ""
    }
   },
   "outputs": [],
   "source": [
    "import os\n",
    "\n",
    "# Set environment variables\n",
    "os.environ[\"KAFKA_BROKER\"] = \"pkc-921jm.us-east-2.aws.confluent.cloud:9092\"\n",
    "os.environ[\"KAFKA_TOPIC\"] = \"market_data\"\n",
    "os.environ[\"KAFKA_TOPIC_PROCESSED\"] = \"processed_data\"\n",
    "os.environ[\"KAFKA_API_KEY\"] = \"FFUTO33UE6P76HEB\"\n",
    "os.environ[\"KAFKA_API_SECRET\"] = \"qY5xvsluuxAhnUr0fNZsSOo/cpZ/9g2Ck4/M4gZeKU+mezzQ4UoANrGcS6IV9/9S\""
   ]
  },
  {
   "cell_type": "markdown",
   "metadata": {
    "application/vnd.databricks.v1+cell": {
     "cellMetadata": {
      "byteLimit": 2048000,
      "rowLimit": 10000
     },
     "inputWidgets": {},
     "nuid": "5dda475b-4197-4991-996e-99bd190fa19b",
     "showTitle": false,
     "tableResultSettingsMap": {},
     "title": ""
    }
   },
   "source": [
    "#### Stream Processing\n",
    "\n",
    "##### Calculating the Average Price Point of IBM Stock for Every One-Minute Interval\n",
    "\n",
    "##### Once the average price of IBM stock is calculated every minute, the next step is visualization.\n"
   ]
  },
  {
   "cell_type": "code",
   "execution_count": 0,
   "metadata": {
    "application/vnd.databricks.v1+cell": {
     "cellMetadata": {
      "byteLimit": 2048000,
      "rowLimit": 10000
     },
     "inputWidgets": {},
     "nuid": "6e3784fe-9832-4ccb-b37b-3ddcb840e2b6",
     "showTitle": false,
     "tableResultSettingsMap": {},
     "title": ""
    }
   },
   "outputs": [],
   "source": [
    "import os\n",
    "from pyspark.sql import SparkSession\n",
    "from pyspark.sql.functions import from_json, col, window, avg\n",
    "from pyspark.sql.types import StructType, StructField, StringType, FloatType\n",
    "\n",
    "# Initialize Spark Session\n",
    "spark = SparkSession.builder \\\n",
    "    .appName(\"Stock Price Streaming\") \\\n",
    "    .getOrCreate()\n",
    "\n",
    "# Kafka configuration\n",
    "kafka_bootstrap_servers = \"pkc-921jm.us-east-2.aws.confluent.cloud:9092\"\n",
    "# os.getenv(\"KAFKA_BROKER\")\n",
    "kafka_topic = \"market_data\"\n",
    "# os.getenv(\"KAFKA_TOPIC\")\n",
    "kafka_topic_processed = \"processed_data\"\n",
    "# os.getenv(\"KAFKA_TOPIC_PROCESSED\")\n",
    "checkpoint_location = \"/mnt/checkpoint/kafka_sink_v3\"\n",
    "\n",
    "kafka_config = {\n",
    "    'kafka.bootstrap.servers': kafka_bootstrap_servers,\n",
    "    'subscribe': kafka_topic,\n",
    "    'startingOffsets': 'earliest',  # Start from the earliest message\n",
    "    'kafka.security.protocol': 'SASL_SSL',\n",
    "    'kafka.sasl.mechanism': 'PLAIN',\n",
    "    \"failOnDataLoss\": \"false\",\n",
    "    \"kafka.ssl.endpoint.identification.algorithm\": \"https\",\n",
    "    'kafka.sasl.jaas.config': f'kafkashaded.org.apache.kafka.common.security.plain.PlainLoginModule required username=\"{os.getenv(\"KAFKA_API_KEY\")}\" password=\"{os.getenv(\"KAFKA_API_SECRET\")}\";',\n",
    "}\n",
    "\n",
    "# Define schema for incoming data\n",
    "schema = StructType([\n",
    "    StructField(\"timestamp\", StringType(), True),\n",
    "    StructField(\"price\", FloatType(), True),\n",
    "    StructField(\"ticker\", StringType(), True)\n",
    "])\n",
    "\n",
    "# Read data from Kafka\n",
    "raw_stream = spark.readStream \\\n",
    "    .format(\"kafka\") \\\n",
    "    .options(**kafka_config) \\\n",
    "    .load()\n",
    "\n",
    "# Parse JSON data\n",
    "parsed_stream = raw_stream.selectExpr(\"CAST(value AS STRING)\") \\\n",
    "    .select(from_json(col(\"value\"), schema).alias(\"data\")) \\\n",
    "    .select(\"data.*\")\n",
    "\n",
    "# Repartition the stream to ensure all data for the same ticker is processed in a single executor\n",
    "parsed_stream = parsed_stream.repartition(\"ticker\")\n",
    "\n",
    "\n",
    "# Transformation: Calculate average price over a 1-minute window\n",
    "average_price_stream = parsed_stream.withColumn(\"timestamp\", col(\"timestamp\").cast(\"timestamp\")).withWatermark(\"timestamp\", \"2 minutes\").groupBy(window(col(\"timestamp\"), \"1 minute\"), col(\"ticker\")).agg(avg(\"price\").alias(\"average_price\"))\n",
    "\n",
    "\n",
    "# Prepare DataFrame for Kafka\n",
    "kafka_df = average_price_stream.selectExpr(\n",
    "    \"CAST(ticker AS STRING) AS key\",\n",
    "    \"to_json(struct(window.start AS window_start, window.end AS window_end, ticker, average_price)) AS value\"\n",
    ")\n",
    "\n",
    "# Write the DataFrame to Kafka\n",
    "query = kafka_df.writeStream \\\n",
    "    .format(\"kafka\") \\\n",
    "    .option(\"kafka.bootstrap.servers\", kafka_bootstrap_servers) \\\n",
    "    .option(\"topic\", kafka_topic_processed) \\\n",
    "    .option(\"checkpointLocation\", checkpoint_location) \\\n",
    "    .option(\"kafka.sasl.mechanism\", \"PLAIN\") \\\n",
    "    .option(\"kafka.security.protocol\", \"SASL_SSL\") \\\n",
    "    .option(\"kafka.sasl.jaas.config\", f'kafkashaded.org.apache.kafka.common.security.plain.PlainLoginModule required username=\"{os.getenv(\"KAFKA_API_KEY\")}\" password=\"{os.getenv(\"KAFKA_API_SECRET\")}\";')\\\n",
    "    .outputMode(\"update\") \\\n",
    "    .start()\n",
    "\n"
   ]
  },
  {
   "cell_type": "markdown",
   "metadata": {
    "application/vnd.databricks.v1+cell": {
     "cellMetadata": {
      "byteLimit": 2048000,
      "rowLimit": 10000
     },
     "inputWidgets": {},
     "nuid": "33c7aba3-6cd5-48b5-b434-d5998f4e3ac0",
     "showTitle": false,
     "tableResultSettingsMap": {},
     "title": ""
    }
   },
   "source": [
    "#### Live Dashboard on Databricks or Google Colab\n",
    "\n",
    "##### Once the data is processed, it is visualized immediately using the visualization tool in Databricks.\n",
    "\n",
    "###### NB: In this case, we visualize the data immediately after processing. Unlike when running the project locally, where the processed data is stored in a \"processed_data\" topic in Kafka and then visualized using Plotly/Dash."
   ]
  },
  {
   "cell_type": "code",
   "execution_count": 0,
   "metadata": {
    "application/vnd.databricks.v1+cell": {
     "cellMetadata": {
      "byteLimit": 2048000,
      "rowLimit": 10000
     },
     "inputWidgets": {},
     "nuid": "8208762a-457c-4352-b5a4-2e5e3e2f1878",
     "showTitle": false,
     "tableResultSettingsMap": {},
     "title": ""
    }
   },
   "outputs": [],
   "source": [
    "average_price_stream_formated = average_price_stream \\\n",
    "    .withColumn(\"window.start\", col(\"window.start\").cast(\"timestamp\")) \n"
   ]
  },
  {
   "cell_type": "code",
   "execution_count": 0,
   "metadata": {
    "application/vnd.databricks.v1+cell": {
     "cellMetadata": {
      "byteLimit": 2048000,
      "rowLimit": 10000
     },
     "inputWidgets": {},
     "nuid": "576a1aa1-7e6f-4567-8d41-1de10c58e5e5",
     "showTitle": false,
     "tableResultSettingsMap": {},
     "title": ""
    }
   },
   "outputs": [
    {
     "output_type": "display_data",
     "data": {
      "text/html": [
       "<style scoped>\n",
       "  .table-result-container {\n",
       "    max-height: 300px;\n",
       "    overflow: auto;\n",
       "  }\n",
       "  table, th, td {\n",
       "    border: 1px solid black;\n",
       "    border-collapse: collapse;\n",
       "  }\n",
       "  th, td {\n",
       "    padding: 5px;\n",
       "  }\n",
       "  th {\n",
       "    text-align: left;\n",
       "  }\n",
       "</style><div class='table-result-container'><table class='table-result'><thead style='background-color: white'><tr><th>window</th><th>ticker</th><th>average_price</th><th>window.start</th></tr></thead><tbody><tr><td>List(2025-01-02T20:19:00Z, 2025-01-02T20:20:00Z)</td><td>IBM</td><td>100.93499946594238</td><td>2025-01-02T20:19:00Z</td></tr><tr><td>List(2025-01-07T15:16:00Z, 2025-01-07T15:17:00Z)</td><td>IBM</td><td>87.12916628519694</td><td>2025-01-07T15:16:00Z</td></tr><tr><td>List(2025-01-02T19:55:00Z, 2025-01-02T19:56:00Z)</td><td>IBM</td><td>92.48416646321614</td><td>2025-01-02T19:55:00Z</td></tr><tr><td>List(2025-01-02T20:06:00Z, 2025-01-02T20:07:00Z)</td><td>IBM</td><td>102.55583254496257</td><td>2025-01-02T20:06:00Z</td></tr><tr><td>List(2025-01-02T19:41:00Z, 2025-01-02T19:42:00Z)</td><td>IBM</td><td>118.79916763305664</td><td>2025-01-02T19:41:00Z</td></tr><tr><td>List(2025-01-02T20:01:00Z, 2025-01-02T20:02:00Z)</td><td>IBM</td><td>106.48916689554851</td><td>2025-01-02T20:01:00Z</td></tr><tr><td>List(2025-01-02T20:18:00Z, 2025-01-02T20:19:00Z)</td><td>IBM</td><td>119.74583435058594</td><td>2025-01-02T20:18:00Z</td></tr><tr><td>List(2025-01-02T19:48:00Z, 2025-01-02T19:49:00Z)</td><td>IBM</td><td>90.85833168029785</td><td>2025-01-02T19:48:00Z</td></tr><tr><td>List(2025-01-02T20:38:00Z, 2025-01-02T20:39:00Z)</td><td>IBM</td><td>111.98666699727376</td><td>2025-01-02T20:38:00Z</td></tr><tr><td>List(2025-01-02T20:13:00Z, 2025-01-02T20:14:00Z)</td><td>IBM</td><td>115.1433334350586</td><td>2025-01-02T20:13:00Z</td></tr><tr><td>List(2025-01-02T20:41:00Z, 2025-01-02T20:42:00Z)</td><td>IBM</td><td>82.21888987223308</td><td>2025-01-02T20:41:00Z</td></tr><tr><td>List(2025-01-07T10:33:00Z, 2025-01-07T10:34:00Z)</td><td>IBM</td><td>108.47666676839192</td><td>2025-01-07T10:33:00Z</td></tr><tr><td>List(2025-01-02T20:21:00Z, 2025-01-02T20:22:00Z)</td><td>IBM</td><td>87.24833424886067</td><td>2025-01-02T20:21:00Z</td></tr><tr><td>List(2025-01-02T20:09:00Z, 2025-01-02T20:10:00Z)</td><td>IBM</td><td>89.84583346048991</td><td>2025-01-02T20:09:00Z</td></tr><tr><td>List(2025-01-02T20:29:00Z, 2025-01-02T20:30:00Z)</td><td>IBM</td><td>110.65416653951009</td><td>2025-01-02T20:29:00Z</td></tr><tr><td>List(2025-01-02T20:02:00Z, 2025-01-02T20:03:00Z)</td><td>IBM</td><td>118.1950003306071</td><td>2025-01-02T20:02:00Z</td></tr><tr><td>List(2025-01-02T20:40:00Z, 2025-01-02T20:41:00Z)</td><td>IBM</td><td>100.28749974568684</td><td>2025-01-02T20:40:00Z</td></tr><tr><td>List(2025-01-02T20:39:00Z, 2025-01-02T20:40:00Z)</td><td>IBM</td><td>118.49416732788086</td><td>2025-01-02T20:39:00Z</td></tr><tr><td>List(2025-01-02T20:37:00Z, 2025-01-02T20:38:00Z)</td><td>IBM</td><td>91.36416562398274</td><td>2025-01-02T20:37:00Z</td></tr><tr><td>List(2025-01-02T20:30:00Z, 2025-01-02T20:31:00Z)</td><td>IBM</td><td>89.98583221435547</td><td>2025-01-02T20:30:00Z</td></tr><tr><td>List(2025-01-02T20:08:00Z, 2025-01-02T20:09:00Z)</td><td>IBM</td><td>111.80818176269531</td><td>2025-01-02T20:08:00Z</td></tr><tr><td>List(2025-01-07T15:27:00Z, 2025-01-07T15:28:00Z)</td><td>IBM</td><td>95.97583389282227</td><td>2025-01-07T15:27:00Z</td></tr><tr><td>List(2025-01-02T19:40:00Z, 2025-01-02T19:41:00Z)</td><td>IBM</td><td>109.0760009765625</td><td>2025-01-02T19:40:00Z</td></tr><tr><td>List(2025-01-02T20:15:00Z, 2025-01-02T20:16:00Z)</td><td>IBM</td><td>82.33499844868977</td><td>2025-01-02T20:15:00Z</td></tr><tr><td>List(2025-01-02T20:14:00Z, 2025-01-02T20:15:00Z)</td><td>IBM</td><td>96.01166725158691</td><td>2025-01-02T20:14:00Z</td></tr><tr><td>List(2025-01-02T20:26:00Z, 2025-01-02T20:27:00Z)</td><td>IBM</td><td>83.38833427429199</td><td>2025-01-02T20:26:00Z</td></tr><tr><td>List(2025-01-07T15:15:00Z, 2025-01-07T15:16:00Z)</td><td>IBM</td><td>82.88083457946777</td><td>2025-01-07T15:15:00Z</td></tr><tr><td>List(2025-01-02T20:17:00Z, 2025-01-02T20:18:00Z)</td><td>IBM</td><td>113.05916595458984</td><td>2025-01-02T20:17:00Z</td></tr><tr><td>List(2025-01-02T20:36:00Z, 2025-01-02T20:37:00Z)</td><td>IBM</td><td>81.88500086466472</td><td>2025-01-02T20:36:00Z</td></tr><tr><td>List(2025-01-02T19:44:00Z, 2025-01-02T19:45:00Z)</td><td>IBM</td><td>83.25499979654948</td><td>2025-01-02T19:44:00Z</td></tr><tr><td>List(2025-01-02T19:45:00Z, 2025-01-02T19:46:00Z)</td><td>IBM</td><td>101.58999951680501</td><td>2025-01-02T19:45:00Z</td></tr><tr><td>List(2025-01-07T15:11:00Z, 2025-01-07T15:12:00Z)</td><td>IBM</td><td>101.08999633789062</td><td>2025-01-07T15:11:00Z</td></tr><tr><td>List(2025-01-02T19:53:00Z, 2025-01-02T19:54:00Z)</td><td>IBM</td><td>93.7516663869222</td><td>2025-01-02T19:53:00Z</td></tr><tr><td>List(2025-01-07T15:23:00Z, 2025-01-07T15:24:00Z)</td><td>IBM</td><td>116.98833338419597</td><td>2025-01-07T15:23:00Z</td></tr><tr><td>List(2025-01-07T15:18:00Z, 2025-01-07T15:19:00Z)</td><td>IBM</td><td>117.66749954223633</td><td>2025-01-07T15:18:00Z</td></tr><tr><td>List(2025-01-02T20:00:00Z, 2025-01-02T20:01:00Z)</td><td>IBM</td><td>86.30166625976562</td><td>2025-01-02T20:00:00Z</td></tr><tr><td>List(2025-01-02T20:34:00Z, 2025-01-02T20:35:00Z)</td><td>IBM</td><td>114.04500007629395</td><td>2025-01-02T20:34:00Z</td></tr><tr><td>List(2025-01-02T20:35:00Z, 2025-01-02T20:36:00Z)</td><td>IBM</td><td>93.91749954223633</td><td>2025-01-02T20:35:00Z</td></tr><tr><td>List(2025-01-02T19:50:00Z, 2025-01-02T19:51:00Z)</td><td>IBM</td><td>95.1708329518636</td><td>2025-01-02T19:50:00Z</td></tr><tr><td>List(2025-01-02T19:46:00Z, 2025-01-02T19:47:00Z)</td><td>IBM</td><td>117.71416664123535</td><td>2025-01-02T19:46:00Z</td></tr><tr><td>List(2025-01-07T15:12:00Z, 2025-01-07T15:13:00Z)</td><td>IBM</td><td>111.74583371480306</td><td>2025-01-07T15:12:00Z</td></tr><tr><td>List(2025-01-07T15:26:00Z, 2025-01-07T15:27:00Z)</td><td>IBM</td><td>82.46818195689808</td><td>2025-01-07T15:26:00Z</td></tr><tr><td>List(2025-01-02T20:24:00Z, 2025-01-02T20:25:00Z)</td><td>IBM</td><td>106.3200003306071</td><td>2025-01-02T20:24:00Z</td></tr><tr><td>List(2025-01-02T20:03:00Z, 2025-01-02T20:04:00Z)</td><td>IBM</td><td>107.20833396911621</td><td>2025-01-02T20:03:00Z</td></tr><tr><td>List(2025-01-07T15:19:00Z, 2025-01-07T15:20:00Z)</td><td>IBM</td><td>106.64083353678386</td><td>2025-01-07T15:19:00Z</td></tr><tr><td>List(2025-01-02T19:42:00Z, 2025-01-02T19:43:00Z)</td><td>IBM</td><td>107.88500086466472</td><td>2025-01-02T19:42:00Z</td></tr><tr><td>List(2025-01-07T15:28:00Z, 2025-01-07T15:29:00Z)</td><td>IBM</td><td>110.7599983215332</td><td>2025-01-07T15:28:00Z</td></tr><tr><td>List(2025-01-02T20:11:00Z, 2025-01-02T20:12:00Z)</td><td>IBM</td><td>95.02833302815755</td><td>2025-01-02T20:11:00Z</td></tr><tr><td>List(2025-01-07T15:14:00Z, 2025-01-07T15:15:00Z)</td><td>IBM</td><td>101.0141658782959</td><td>2025-01-07T15:14:00Z</td></tr><tr><td>List(2025-01-02T20:23:00Z, 2025-01-02T20:24:00Z)</td><td>IBM</td><td>118.5</td><td>2025-01-02T20:23:00Z</td></tr><tr><td>List(2025-01-02T20:33:00Z, 2025-01-02T20:34:00Z)</td><td>IBM</td><td>115.72166697184245</td><td>2025-01-02T20:33:00Z</td></tr><tr><td>List(2025-01-07T15:22:00Z, 2025-01-07T15:23:00Z)</td><td>IBM</td><td>102.21833356221516</td><td>2025-01-07T15:22:00Z</td></tr><tr><td>List(2025-01-07T10:35:00Z, 2025-01-07T10:36:00Z)</td><td>IBM</td><td>116.26666768391927</td><td>2025-01-07T10:35:00Z</td></tr><tr><td>List(2025-01-02T19:47:00Z, 2025-01-02T19:48:00Z)</td><td>IBM</td><td>112.03416570027669</td><td>2025-01-02T19:47:00Z</td></tr><tr><td>List(2025-01-07T15:20:00Z, 2025-01-07T15:21:00Z)</td><td>IBM</td><td>85.5933329264323</td><td>2025-01-07T15:20:00Z</td></tr><tr><td>List(2025-01-02T19:52:00Z, 2025-01-02T19:53:00Z)</td><td>IBM</td><td>114.7541675567627</td><td>2025-01-02T19:52:00Z</td></tr><tr><td>List(2025-01-02T20:20:00Z, 2025-01-02T20:21:00Z)</td><td>IBM</td><td>83.2016658782959</td><td>2025-01-02T20:20:00Z</td></tr><tr><td>List(2025-01-02T20:07:00Z, 2025-01-02T20:08:00Z)</td><td>IBM</td><td>117.02583312988281</td><td>2025-01-02T20:07:00Z</td></tr><tr><td>List(2025-01-07T15:21:00Z, 2025-01-07T15:22:00Z)</td><td>IBM</td><td>82.52500089009602</td><td>2025-01-07T15:21:00Z</td></tr><tr><td>List(2025-01-02T19:56:00Z, 2025-01-02T19:57:00Z)</td><td>IBM</td><td>111.07083320617676</td><td>2025-01-02T19:56:00Z</td></tr><tr><td>List(2025-01-02T19:49:00Z, 2025-01-02T19:50:00Z)</td><td>IBM</td><td>79.71666653951009</td><td>2025-01-02T19:49:00Z</td></tr><tr><td>List(2025-01-07T10:34:00Z, 2025-01-07T10:35:00Z)</td><td>IBM</td><td>119.26083310445149</td><td>2025-01-07T10:34:00Z</td></tr><tr><td>List(2025-01-02T20:32:00Z, 2025-01-02T20:33:00Z)</td><td>IBM</td><td>96.38583374023438</td><td>2025-01-02T20:32:00Z</td></tr><tr><td>List(2025-01-02T19:43:00Z, 2025-01-02T19:44:00Z)</td><td>IBM</td><td>87.73083305358887</td><td>2025-01-02T19:43:00Z</td></tr><tr><td>List(2025-01-07T15:24:00Z, 2025-01-07T15:25:00Z)</td><td>IBM</td><td>112.53249931335449</td><td>2025-01-07T15:24:00Z</td></tr><tr><td>List(2025-01-02T19:54:00Z, 2025-01-02T19:55:00Z)</td><td>IBM</td><td>81.97750027974446</td><td>2025-01-02T19:54:00Z</td></tr><tr><td>List(2025-01-07T15:13:00Z, 2025-01-07T15:14:00Z)</td><td>IBM</td><td>117.75416692097981</td><td>2025-01-07T15:13:00Z</td></tr><tr><td>List(2025-01-02T20:22:00Z, 2025-01-02T20:23:00Z)</td><td>IBM</td><td>106.31083424886067</td><td>2025-01-02T20:22:00Z</td></tr><tr><td>List(2025-01-02T19:59:00Z, 2025-01-02T20:00:00Z)</td><td>IBM</td><td>83.4299996693929</td><td>2025-01-02T19:59:00Z</td></tr><tr><td>List(2025-01-02T20:16:00Z, 2025-01-02T20:17:00Z)</td><td>IBM</td><td>90.67833391825359</td><td>2025-01-02T20:16:00Z</td></tr><tr><td>List(2025-01-02T19:51:00Z, 2025-01-02T19:52:00Z)</td><td>IBM</td><td>115.24833297729492</td><td>2025-01-02T19:51:00Z</td></tr><tr><td>List(2025-01-02T20:31:00Z, 2025-01-02T20:32:00Z)</td><td>IBM</td><td>81.97833442687988</td><td>2025-01-02T20:31:00Z</td></tr><tr><td>List(2025-01-07T15:17:00Z, 2025-01-07T15:18:00Z)</td><td>IBM</td><td>107.46666653951009</td><td>2025-01-07T15:17:00Z</td></tr><tr><td>List(2025-01-02T19:58:00Z, 2025-01-02T19:59:00Z)</td><td>IBM</td><td>101.6966667175293</td><td>2025-01-02T19:58:00Z</td></tr><tr><td>List(2025-01-07T15:25:00Z, 2025-01-07T15:26:00Z)</td><td>IBM</td><td>90.77166684468587</td><td>2025-01-07T15:25:00Z</td></tr><tr><td>List(2025-01-02T20:25:00Z, 2025-01-02T20:26:00Z)</td><td>IBM</td><td>85.27499961853027</td><td>2025-01-02T20:25:00Z</td></tr><tr><td>List(2025-01-02T20:10:00Z, 2025-01-02T20:11:00Z)</td><td>IBM</td><td>82.05083401997884</td><td>2025-01-02T20:10:00Z</td></tr><tr><td>List(2025-01-02T20:05:00Z, 2025-01-02T20:06:00Z)</td><td>IBM</td><td>82.2041670481364</td><td>2025-01-02T20:05:00Z</td></tr><tr><td>List(2025-01-02T20:28:00Z, 2025-01-02T20:29:00Z)</td><td>IBM</td><td>117.94999885559082</td><td>2025-01-02T20:28:00Z</td></tr><tr><td>List(2025-01-02T20:04:00Z, 2025-01-02T20:05:00Z)</td><td>IBM</td><td>85.81000073750813</td><td>2025-01-02T20:04:00Z</td></tr><tr><td>List(2025-01-02T19:57:00Z, 2025-01-02T19:58:00Z)</td><td>IBM</td><td>118.44000053405762</td><td>2025-01-02T19:57:00Z</td></tr><tr><td>List(2025-01-02T20:12:00Z, 2025-01-02T20:13:00Z)</td><td>IBM</td><td>114.05583318074544</td><td>2025-01-02T20:12:00Z</td></tr><tr><td>List(2025-01-02T20:27:00Z, 2025-01-02T20:28:00Z)</td><td>IBM</td><td>102.05666605631511</td><td>2025-01-02T20:27:00Z</td></tr></tbody></table></div>"
      ]
     },
     "metadata": {
      "application/vnd.databricks.v1+output": {
       "addedWidgets": {},
       "aggData": [],
       "aggError": "",
       "aggOverflow": false,
       "aggSchema": [],
       "aggSeriesLimitReached": false,
       "aggType": "",
       "arguments": {},
       "columnCustomDisplayInfos": {},
       "data": [
        [
         [
          "2025-01-02T20:19:00Z",
          "2025-01-02T20:20:00Z"
         ],
         "IBM",
         100.93499946594238,
         "2025-01-02T20:19:00Z"
        ],
        [
         [
          "2025-01-07T15:16:00Z",
          "2025-01-07T15:17:00Z"
         ],
         "IBM",
         87.12916628519694,
         "2025-01-07T15:16:00Z"
        ],
        [
         [
          "2025-01-02T19:55:00Z",
          "2025-01-02T19:56:00Z"
         ],
         "IBM",
         92.48416646321614,
         "2025-01-02T19:55:00Z"
        ],
        [
         [
          "2025-01-02T20:06:00Z",
          "2025-01-02T20:07:00Z"
         ],
         "IBM",
         102.55583254496257,
         "2025-01-02T20:06:00Z"
        ],
        [
         [
          "2025-01-02T19:41:00Z",
          "2025-01-02T19:42:00Z"
         ],
         "IBM",
         118.79916763305664,
         "2025-01-02T19:41:00Z"
        ],
        [
         [
          "2025-01-02T20:01:00Z",
          "2025-01-02T20:02:00Z"
         ],
         "IBM",
         106.48916689554851,
         "2025-01-02T20:01:00Z"
        ],
        [
         [
          "2025-01-02T20:18:00Z",
          "2025-01-02T20:19:00Z"
         ],
         "IBM",
         119.74583435058594,
         "2025-01-02T20:18:00Z"
        ],
        [
         [
          "2025-01-02T19:48:00Z",
          "2025-01-02T19:49:00Z"
         ],
         "IBM",
         90.85833168029785,
         "2025-01-02T19:48:00Z"
        ],
        [
         [
          "2025-01-02T20:38:00Z",
          "2025-01-02T20:39:00Z"
         ],
         "IBM",
         111.98666699727376,
         "2025-01-02T20:38:00Z"
        ],
        [
         [
          "2025-01-02T20:13:00Z",
          "2025-01-02T20:14:00Z"
         ],
         "IBM",
         115.1433334350586,
         "2025-01-02T20:13:00Z"
        ],
        [
         [
          "2025-01-02T20:41:00Z",
          "2025-01-02T20:42:00Z"
         ],
         "IBM",
         82.21888987223308,
         "2025-01-02T20:41:00Z"
        ],
        [
         [
          "2025-01-07T10:33:00Z",
          "2025-01-07T10:34:00Z"
         ],
         "IBM",
         108.47666676839192,
         "2025-01-07T10:33:00Z"
        ],
        [
         [
          "2025-01-02T20:21:00Z",
          "2025-01-02T20:22:00Z"
         ],
         "IBM",
         87.24833424886067,
         "2025-01-02T20:21:00Z"
        ],
        [
         [
          "2025-01-02T20:09:00Z",
          "2025-01-02T20:10:00Z"
         ],
         "IBM",
         89.84583346048991,
         "2025-01-02T20:09:00Z"
        ],
        [
         [
          "2025-01-02T20:29:00Z",
          "2025-01-02T20:30:00Z"
         ],
         "IBM",
         110.65416653951009,
         "2025-01-02T20:29:00Z"
        ],
        [
         [
          "2025-01-02T20:02:00Z",
          "2025-01-02T20:03:00Z"
         ],
         "IBM",
         118.1950003306071,
         "2025-01-02T20:02:00Z"
        ],
        [
         [
          "2025-01-02T20:40:00Z",
          "2025-01-02T20:41:00Z"
         ],
         "IBM",
         100.28749974568684,
         "2025-01-02T20:40:00Z"
        ],
        [
         [
          "2025-01-02T20:39:00Z",
          "2025-01-02T20:40:00Z"
         ],
         "IBM",
         118.49416732788086,
         "2025-01-02T20:39:00Z"
        ],
        [
         [
          "2025-01-02T20:37:00Z",
          "2025-01-02T20:38:00Z"
         ],
         "IBM",
         91.36416562398274,
         "2025-01-02T20:37:00Z"
        ],
        [
         [
          "2025-01-02T20:30:00Z",
          "2025-01-02T20:31:00Z"
         ],
         "IBM",
         89.98583221435547,
         "2025-01-02T20:30:00Z"
        ],
        [
         [
          "2025-01-02T20:08:00Z",
          "2025-01-02T20:09:00Z"
         ],
         "IBM",
         111.80818176269531,
         "2025-01-02T20:08:00Z"
        ],
        [
         [
          "2025-01-07T15:27:00Z",
          "2025-01-07T15:28:00Z"
         ],
         "IBM",
         95.97583389282227,
         "2025-01-07T15:27:00Z"
        ],
        [
         [
          "2025-01-02T19:40:00Z",
          "2025-01-02T19:41:00Z"
         ],
         "IBM",
         109.0760009765625,
         "2025-01-02T19:40:00Z"
        ],
        [
         [
          "2025-01-02T20:15:00Z",
          "2025-01-02T20:16:00Z"
         ],
         "IBM",
         82.33499844868977,
         "2025-01-02T20:15:00Z"
        ],
        [
         [
          "2025-01-02T20:14:00Z",
          "2025-01-02T20:15:00Z"
         ],
         "IBM",
         96.01166725158691,
         "2025-01-02T20:14:00Z"
        ],
        [
         [
          "2025-01-02T20:26:00Z",
          "2025-01-02T20:27:00Z"
         ],
         "IBM",
         83.38833427429199,
         "2025-01-02T20:26:00Z"
        ],
        [
         [
          "2025-01-07T15:15:00Z",
          "2025-01-07T15:16:00Z"
         ],
         "IBM",
         82.88083457946777,
         "2025-01-07T15:15:00Z"
        ],
        [
         [
          "2025-01-02T20:17:00Z",
          "2025-01-02T20:18:00Z"
         ],
         "IBM",
         113.05916595458984,
         "2025-01-02T20:17:00Z"
        ],
        [
         [
          "2025-01-02T20:36:00Z",
          "2025-01-02T20:37:00Z"
         ],
         "IBM",
         81.88500086466472,
         "2025-01-02T20:36:00Z"
        ],
        [
         [
          "2025-01-02T19:44:00Z",
          "2025-01-02T19:45:00Z"
         ],
         "IBM",
         83.25499979654948,
         "2025-01-02T19:44:00Z"
        ],
        [
         [
          "2025-01-02T19:45:00Z",
          "2025-01-02T19:46:00Z"
         ],
         "IBM",
         101.58999951680501,
         "2025-01-02T19:45:00Z"
        ],
        [
         [
          "2025-01-07T15:11:00Z",
          "2025-01-07T15:12:00Z"
         ],
         "IBM",
         101.08999633789062,
         "2025-01-07T15:11:00Z"
        ],
        [
         [
          "2025-01-02T19:53:00Z",
          "2025-01-02T19:54:00Z"
         ],
         "IBM",
         93.7516663869222,
         "2025-01-02T19:53:00Z"
        ],
        [
         [
          "2025-01-07T15:23:00Z",
          "2025-01-07T15:24:00Z"
         ],
         "IBM",
         116.98833338419597,
         "2025-01-07T15:23:00Z"
        ],
        [
         [
          "2025-01-07T15:18:00Z",
          "2025-01-07T15:19:00Z"
         ],
         "IBM",
         117.66749954223633,
         "2025-01-07T15:18:00Z"
        ],
        [
         [
          "2025-01-02T20:00:00Z",
          "2025-01-02T20:01:00Z"
         ],
         "IBM",
         86.30166625976562,
         "2025-01-02T20:00:00Z"
        ],
        [
         [
          "2025-01-02T20:34:00Z",
          "2025-01-02T20:35:00Z"
         ],
         "IBM",
         114.04500007629395,
         "2025-01-02T20:34:00Z"
        ],
        [
         [
          "2025-01-02T20:35:00Z",
          "2025-01-02T20:36:00Z"
         ],
         "IBM",
         93.91749954223633,
         "2025-01-02T20:35:00Z"
        ],
        [
         [
          "2025-01-02T19:50:00Z",
          "2025-01-02T19:51:00Z"
         ],
         "IBM",
         95.1708329518636,
         "2025-01-02T19:50:00Z"
        ],
        [
         [
          "2025-01-02T19:46:00Z",
          "2025-01-02T19:47:00Z"
         ],
         "IBM",
         117.71416664123535,
         "2025-01-02T19:46:00Z"
        ],
        [
         [
          "2025-01-07T15:12:00Z",
          "2025-01-07T15:13:00Z"
         ],
         "IBM",
         111.74583371480306,
         "2025-01-07T15:12:00Z"
        ],
        [
         [
          "2025-01-07T15:26:00Z",
          "2025-01-07T15:27:00Z"
         ],
         "IBM",
         82.46818195689808,
         "2025-01-07T15:26:00Z"
        ],
        [
         [
          "2025-01-02T20:24:00Z",
          "2025-01-02T20:25:00Z"
         ],
         "IBM",
         106.3200003306071,
         "2025-01-02T20:24:00Z"
        ],
        [
         [
          "2025-01-02T20:03:00Z",
          "2025-01-02T20:04:00Z"
         ],
         "IBM",
         107.20833396911621,
         "2025-01-02T20:03:00Z"
        ],
        [
         [
          "2025-01-07T15:19:00Z",
          "2025-01-07T15:20:00Z"
         ],
         "IBM",
         106.64083353678386,
         "2025-01-07T15:19:00Z"
        ],
        [
         [
          "2025-01-02T19:42:00Z",
          "2025-01-02T19:43:00Z"
         ],
         "IBM",
         107.88500086466472,
         "2025-01-02T19:42:00Z"
        ],
        [
         [
          "2025-01-07T15:28:00Z",
          "2025-01-07T15:29:00Z"
         ],
         "IBM",
         110.7599983215332,
         "2025-01-07T15:28:00Z"
        ],
        [
         [
          "2025-01-02T20:11:00Z",
          "2025-01-02T20:12:00Z"
         ],
         "IBM",
         95.02833302815755,
         "2025-01-02T20:11:00Z"
        ],
        [
         [
          "2025-01-07T15:14:00Z",
          "2025-01-07T15:15:00Z"
         ],
         "IBM",
         101.0141658782959,
         "2025-01-07T15:14:00Z"
        ],
        [
         [
          "2025-01-02T20:23:00Z",
          "2025-01-02T20:24:00Z"
         ],
         "IBM",
         118.5,
         "2025-01-02T20:23:00Z"
        ],
        [
         [
          "2025-01-02T20:33:00Z",
          "2025-01-02T20:34:00Z"
         ],
         "IBM",
         115.72166697184245,
         "2025-01-02T20:33:00Z"
        ],
        [
         [
          "2025-01-07T15:22:00Z",
          "2025-01-07T15:23:00Z"
         ],
         "IBM",
         102.21833356221516,
         "2025-01-07T15:22:00Z"
        ],
        [
         [
          "2025-01-07T10:35:00Z",
          "2025-01-07T10:36:00Z"
         ],
         "IBM",
         116.26666768391927,
         "2025-01-07T10:35:00Z"
        ],
        [
         [
          "2025-01-02T19:47:00Z",
          "2025-01-02T19:48:00Z"
         ],
         "IBM",
         112.03416570027669,
         "2025-01-02T19:47:00Z"
        ],
        [
         [
          "2025-01-07T15:20:00Z",
          "2025-01-07T15:21:00Z"
         ],
         "IBM",
         85.5933329264323,
         "2025-01-07T15:20:00Z"
        ],
        [
         [
          "2025-01-02T19:52:00Z",
          "2025-01-02T19:53:00Z"
         ],
         "IBM",
         114.7541675567627,
         "2025-01-02T19:52:00Z"
        ],
        [
         [
          "2025-01-02T20:20:00Z",
          "2025-01-02T20:21:00Z"
         ],
         "IBM",
         83.2016658782959,
         "2025-01-02T20:20:00Z"
        ],
        [
         [
          "2025-01-02T20:07:00Z",
          "2025-01-02T20:08:00Z"
         ],
         "IBM",
         117.02583312988281,
         "2025-01-02T20:07:00Z"
        ],
        [
         [
          "2025-01-07T15:21:00Z",
          "2025-01-07T15:22:00Z"
         ],
         "IBM",
         82.52500089009602,
         "2025-01-07T15:21:00Z"
        ],
        [
         [
          "2025-01-02T19:56:00Z",
          "2025-01-02T19:57:00Z"
         ],
         "IBM",
         111.07083320617676,
         "2025-01-02T19:56:00Z"
        ],
        [
         [
          "2025-01-02T19:49:00Z",
          "2025-01-02T19:50:00Z"
         ],
         "IBM",
         79.71666653951009,
         "2025-01-02T19:49:00Z"
        ],
        [
         [
          "2025-01-07T10:34:00Z",
          "2025-01-07T10:35:00Z"
         ],
         "IBM",
         119.26083310445149,
         "2025-01-07T10:34:00Z"
        ],
        [
         [
          "2025-01-02T20:32:00Z",
          "2025-01-02T20:33:00Z"
         ],
         "IBM",
         96.38583374023438,
         "2025-01-02T20:32:00Z"
        ],
        [
         [
          "2025-01-02T19:43:00Z",
          "2025-01-02T19:44:00Z"
         ],
         "IBM",
         87.73083305358887,
         "2025-01-02T19:43:00Z"
        ],
        [
         [
          "2025-01-07T15:24:00Z",
          "2025-01-07T15:25:00Z"
         ],
         "IBM",
         112.53249931335449,
         "2025-01-07T15:24:00Z"
        ],
        [
         [
          "2025-01-02T19:54:00Z",
          "2025-01-02T19:55:00Z"
         ],
         "IBM",
         81.97750027974446,
         "2025-01-02T19:54:00Z"
        ],
        [
         [
          "2025-01-07T15:13:00Z",
          "2025-01-07T15:14:00Z"
         ],
         "IBM",
         117.75416692097981,
         "2025-01-07T15:13:00Z"
        ],
        [
         [
          "2025-01-02T20:22:00Z",
          "2025-01-02T20:23:00Z"
         ],
         "IBM",
         106.31083424886067,
         "2025-01-02T20:22:00Z"
        ],
        [
         [
          "2025-01-02T19:59:00Z",
          "2025-01-02T20:00:00Z"
         ],
         "IBM",
         83.4299996693929,
         "2025-01-02T19:59:00Z"
        ],
        [
         [
          "2025-01-02T20:16:00Z",
          "2025-01-02T20:17:00Z"
         ],
         "IBM",
         90.67833391825359,
         "2025-01-02T20:16:00Z"
        ],
        [
         [
          "2025-01-02T19:51:00Z",
          "2025-01-02T19:52:00Z"
         ],
         "IBM",
         115.24833297729492,
         "2025-01-02T19:51:00Z"
        ],
        [
         [
          "2025-01-02T20:31:00Z",
          "2025-01-02T20:32:00Z"
         ],
         "IBM",
         81.97833442687988,
         "2025-01-02T20:31:00Z"
        ],
        [
         [
          "2025-01-07T15:17:00Z",
          "2025-01-07T15:18:00Z"
         ],
         "IBM",
         107.46666653951009,
         "2025-01-07T15:17:00Z"
        ],
        [
         [
          "2025-01-02T19:58:00Z",
          "2025-01-02T19:59:00Z"
         ],
         "IBM",
         101.6966667175293,
         "2025-01-02T19:58:00Z"
        ],
        [
         [
          "2025-01-07T15:25:00Z",
          "2025-01-07T15:26:00Z"
         ],
         "IBM",
         90.77166684468587,
         "2025-01-07T15:25:00Z"
        ],
        [
         [
          "2025-01-02T20:25:00Z",
          "2025-01-02T20:26:00Z"
         ],
         "IBM",
         85.27499961853027,
         "2025-01-02T20:25:00Z"
        ],
        [
         [
          "2025-01-02T20:10:00Z",
          "2025-01-02T20:11:00Z"
         ],
         "IBM",
         82.05083401997884,
         "2025-01-02T20:10:00Z"
        ],
        [
         [
          "2025-01-02T20:05:00Z",
          "2025-01-02T20:06:00Z"
         ],
         "IBM",
         82.2041670481364,
         "2025-01-02T20:05:00Z"
        ],
        [
         [
          "2025-01-02T20:28:00Z",
          "2025-01-02T20:29:00Z"
         ],
         "IBM",
         117.94999885559082,
         "2025-01-02T20:28:00Z"
        ],
        [
         [
          "2025-01-02T20:04:00Z",
          "2025-01-02T20:05:00Z"
         ],
         "IBM",
         85.81000073750813,
         "2025-01-02T20:04:00Z"
        ],
        [
         [
          "2025-01-02T19:57:00Z",
          "2025-01-02T19:58:00Z"
         ],
         "IBM",
         118.44000053405762,
         "2025-01-02T19:57:00Z"
        ],
        [
         [
          "2025-01-02T20:12:00Z",
          "2025-01-02T20:13:00Z"
         ],
         "IBM",
         114.05583318074544,
         "2025-01-02T20:12:00Z"
        ],
        [
         [
          "2025-01-02T20:27:00Z",
          "2025-01-02T20:28:00Z"
         ],
         "IBM",
         102.05666605631511,
         "2025-01-02T20:27:00Z"
        ]
       ],
       "datasetInfos": [],
       "dbfsResultPath": null,
       "isJsonSchema": true,
       "metadata": {
        "isDbfsCommandResult": false
       },
       "overflow": false,
       "plotOptions": {
        "customPlotOptions": {},
        "displayType": "table",
        "pivotAggregation": null,
        "pivotColumns": null,
        "xColumns": null,
        "yColumns": null
       },
       "removedWidgets": [],
       "schema": [
        {
         "metadata": "{\"spark.timeWindow\":true,\"spark.watermarkDelayMs\":120000}",
         "name": "window",
         "type": "{\"type\":\"struct\",\"fields\":[{\"name\":\"start\",\"type\":\"timestamp\",\"nullable\":true,\"metadata\":{}},{\"name\":\"end\",\"type\":\"timestamp\",\"nullable\":true,\"metadata\":{}}]}"
        },
        {
         "metadata": "{}",
         "name": "ticker",
         "type": "\"string\""
        },
        {
         "metadata": "{}",
         "name": "average_price",
         "type": "\"double\""
        },
        {
         "metadata": "{}",
         "name": "window.start",
         "type": "\"timestamp\""
        }
       ],
       "type": "table"
      }
     },
     "output_type": "display_data"
    },
    {
     "output_type": "display_data",
     "data": {
      "text/plain": [
       "Databricks visualization. Run in Databricks to view."
      ]
     },
     "metadata": {
      "application/vnd.databricks.v1.subcommand+json": {
       "baseErrorDetails": null,
       "bindings": {},
       "collapsed": false,
       "command": "# Databricks no-op command",
       "commandTitle": "live Stock Pricing",
       "commandType": "auto",
       "commandVersion": 0,
       "commentThread": [],
       "commentsVisible": false,
       "contentSha256Hex": null,
       "customPlotOptions": {
        "redashChart": [
         {
          "key": "type",
          "value": "CHART"
         },
         {
          "key": "options",
          "value": {
           "alignYAxesAtZero": true,
           "coefficient": 1,
           "columnConfigurationMap": {
            "x": {
             "column": "window.start",
             "id": "column_8c470565162",
             "transform": "SECOND_LEVEL"
            },
            "y": [
             {
              "column": "average_price",
              "id": "column_8c470565164",
              "transform": "SUM"
             }
            ]
           },
           "dateTimeFormat": "DD/MM/YYYY HH:mm",
           "direction": {
            "type": "counterclockwise"
           },
           "error_y": {
            "type": "data",
            "visible": true
           },
           "globalSeriesType": "line",
           "isAggregationOn": true,
           "legend": {
            "traceorder": "normal"
           },
           "missingValuesAsZero": true,
           "numberFormat": "0,0.[00000]",
           "percentFormat": "0[.]00%",
           "series": {
            "error_y": {
             "type": "data",
             "visible": true
            },
            "stacking": null
           },
           "seriesOptions": {
            "column_8c470565164": {
             "type": "line",
             "yAxis": 0
            }
           },
           "showDataLabels": false,
           "sizemode": "diameter",
           "sortX": true,
           "sortY": true,
           "swappedAxes": false,
           "textFormat": "",
           "useAggregationsUi": true,
           "valuesOptions": {},
           "version": 2,
           "xAxis": {
            "labels": {
             "enabled": true
            },
            "type": "-"
           },
           "yAxis": [
            {
             "type": "-"
            },
            {
             "opposite": true,
             "type": "-"
            }
           ]
          }
         }
        ]
       },
       "datasetPreviewNameToCmdIdMap": {},
       "diffDeletes": [],
       "diffInserts": [],
       "displayType": "redashChart",
       "error": null,
       "errorDetails": null,
       "errorSummary": null,
       "errorTraceType": null,
       "finishTime": 0,
       "globalVars": {},
       "guid": "",
       "height": "auto",
       "hideCommandCode": false,
       "hideCommandResult": false,
       "iPythonMetadata": null,
       "inputWidgets": {},
       "isLockedInExamMode": false,
       "latestUser": "a user",
       "latestUserId": null,
       "listResultMetadata": null,
       "metadata": {
        "byteLimit": 2048000,
        "rowLimit": 10000
       },
       "nuid": "3afdee34-9c9f-4163-9074-6a8ba8e60027",
       "origId": 0,
       "parentHierarchy": [],
       "pivotAggregation": null,
       "pivotColumns": null,
       "position": 3.78125,
       "resultDbfsErrorMessage": null,
       "resultDbfsStatus": "INLINED_IN_TREE",
       "results": null,
       "showCommandTitle": false,
       "startTime": 0,
       "state": "finished",
       "streamStates": {},
       "subcommandOptions": {
        "queryPlan": {
         "groups": [
          {
           "column": "column_8c470565162",
           "type": "column"
          }
         ],
         "selects": [
          {
           "alias": "column_8c470565162",
           "args": [
            {
             "column": "window.start",
             "type": "column"
            },
            {
             "string": "SECOND",
             "type": "string"
            }
           ],
           "function": "DATE_TRUNC",
           "type": "function"
          },
          {
           "alias": "column_8c470565164",
           "args": [
            {
             "column": "average_price",
             "type": "column"
            }
           ],
           "function": "SUM",
           "type": "function"
          }
         ]
        }
       },
       "submitTime": 0,
       "subtype": "tableResultSubCmd.visualization",
       "tableResultIndex": 0,
       "tableResultSettingsMap": {},
       "useConsistentColors": false,
       "version": "CommandV1",
       "width": "auto",
       "workflows": [],
       "xColumns": null,
       "yColumns": null
      }
     },
     "output_type": "display_data"
    }
   ],
   "source": [
    "display(average_price_stream_formated)"
   ]
  }
 ],
 "metadata": {
  "application/vnd.databricks.v1+notebook": {
   "computePreferences": null,
   "dashboards": [
    {
     "elements": [],
     "globalVars": {},
     "guid": "",
     "layoutOption": {
      "grid": true,
      "stack": true
     },
     "nuid": "7eb208f8-80a9-4f42-b7a4-2eac6e45eee4",
     "origId": 2069191277283974,
     "title": "Untitled",
     "version": "DashboardViewV1",
     "width": 1024
    },
    {
     "elements": [
      {
       "dashboardResultIndex": null,
       "elementNUID": "3afdee34-9c9f-4163-9074-6a8ba8e60027",
       "elementType": "command",
       "guid": "f59dfd57-b146-4eee-8a51-4f999dcc590e",
       "options": null,
       "position": {
        "height": 6,
        "width": 12,
        "x": 0,
        "y": 0,
        "z": null
       },
       "resultIndex": null
      }
     ],
     "globalVars": {},
     "guid": "",
     "layoutOption": {
      "grid": true,
      "stack": true
     },
     "nuid": "d0018370-b2cf-4bd1-901f-4c518770435c",
     "origId": 2069191277283975,
     "title": "Untitled",
     "version": "DashboardViewV1",
     "width": 1024
    }
   ],
   "environmentMetadata": null,
   "language": "python",
   "notebookMetadata": {
    "pythonIndentUnit": 2
   },
   "notebookName": "Data Processing & visualization",
   "widgets": {}
  }
 },
 "nbformat": 4,
 "nbformat_minor": 0
}
