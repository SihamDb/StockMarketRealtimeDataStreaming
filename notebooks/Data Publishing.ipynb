{
 "cells": [
  {
   "cell_type": "markdown",
   "metadata": {
    "application/vnd.databricks.v1+cell": {
     "cellMetadata": {},
     "inputWidgets": {},
     "nuid": "1c3fe5fe-507e-4365-abb8-37956e0a7ac8",
     "showTitle": false,
     "tableResultSettingsMap": {},
     "title": ""
    }
   },
   "source": [
    "### Data Generation\n",
    "#### The first cell below generated a price point of the IBM stock every 5 seconds"
   ]
  },
  {
   "cell_type": "code",
   "execution_count": 0,
   "metadata": {
    "application/vnd.databricks.v1+cell": {
     "cellMetadata": {
      "byteLimit": 2048000,
      "rowLimit": 10000
     },
     "inputWidgets": {},
     "nuid": "6013b0b3-d11b-449d-aab1-cadf250bda11",
     "showTitle": false,
     "tableResultSettingsMap": {},
     "title": ""
    }
   },
   "outputs": [],
   "source": [
    "from random import random\n",
    "from datetime import datetime\n",
    "import random\n",
    "import math\n",
    "\n",
    "\n",
    "# Function to generate time series data with a pattern\n",
    "def generate_market_data(max_event_counts, ticker):\n",
    "    base_value = 100\n",
    "    amplitude = 20\n",
    "    frequency = 0.1  # Determines the cycle length\n",
    "    noise = random.uniform(-5, 5)  # Random noise\n",
    "    value = base_value + amplitude * math.sin(frequency * max_event_counts) + noise\n",
    "    data = {\n",
    "        \"timestamp\": datetime.now().strftime(\"%Y-%m-%dT%H:%M:%S\"),\n",
    "        \"ticker\": ticker,\n",
    "        \"price\": round(value, 2),\n",
    "    }\n",
    "    return data\n"
   ]
  },
  {
   "cell_type": "code",
   "execution_count": 0,
   "metadata": {
    "application/vnd.databricks.v1+cell": {
     "cellMetadata": {
      "byteLimit": 2048000,
      "rowLimit": 10000
     },
     "inputWidgets": {},
     "nuid": "656a9785-f18c-4f77-852c-506bb170eaa9",
     "showTitle": false,
     "tableResultSettingsMap": {},
     "title": ""
    }
   },
   "outputs": [
    {
     "output_type": "stream",
     "name": "stdout",
     "output_type": "stream",
     "text": [
      "\u001B[43mNote: you may need to restart the kernel using dbutils.library.restartPython() to use updated packages.\u001B[0m\nCollecting confluent_kafka\n  Downloading confluent_kafka-2.7.0-cp310-cp310-manylinux_2_28_x86_64.whl (4.0 MB)\n     ━━━━━━━━━━━━━━━━━━━━━━━━━━━━━━━━━━━━━━━━ 4.0/4.0 MB 14.2 MB/s eta 0:00:00\nInstalling collected packages: confluent_kafka\nSuccessfully installed confluent_kafka-2.7.0\n\u001B[43mNote: you may need to restart the kernel using dbutils.library.restartPython() to use updated packages.\u001B[0m\n"
     ]
    }
   ],
   "source": [
    "#Installation de l'api de confluent kafka \n",
    "pip install confluent_kafka"
   ]
  },
  {
   "cell_type": "markdown",
   "metadata": {
    "application/vnd.databricks.v1+cell": {
     "cellMetadata": {},
     "inputWidgets": {},
     "nuid": "3a8a61e2-269c-4241-8301-7cb5dced6fda",
     "showTitle": false,
     "tableResultSettingsMap": {},
     "title": ""
    }
   },
   "source": [
    "#### The cell below sends the raw data generated previously to the kafka topic hosted in confluent called \"market_data\""
   ]
  },
  {
   "cell_type": "code",
   "execution_count": 0,
   "metadata": {
    "application/vnd.databricks.v1+cell": {
     "cellMetadata": {
      "byteLimit": 2048000,
      "rowLimit": 10000
     },
     "inputWidgets": {},
     "nuid": "d06768d6-16f3-427e-9f15-7ef397823f4a",
     "showTitle": false,
     "tableResultSettingsMap": {},
     "title": ""
    }
   },
   "outputs": [
    {
     "output_type": "stream",
     "name": "stdout",
     "output_type": "stream",
     "text": [
      "Publishing time series data to Kafka topic 'market_data'...\nPublished: {\"timestamp\": \"2025-01-07T15:11:58\", \"ticker\": \"IBM\", \"price\": 101.09}\nPublished: {\"timestamp\": \"2025-01-07T15:12:03\", \"ticker\": \"IBM\", \"price\": 104.82}\nMessage delivered to market_data [Partition: 5] at Offset: 1659\nPublished: {\"timestamp\": \"2025-01-07T15:12:08\", \"ticker\": \"IBM\", \"price\": 104.04}\nMessage delivered to market_data [Partition: 5] at Offset: 1660\nPublished: {\"timestamp\": \"2025-01-07T15:12:13\", \"ticker\": \"IBM\", \"price\": 104.15}\nMessage delivered to market_data [Partition: 5] at Offset: 1661\nPublished: {\"timestamp\": \"2025-01-07T15:12:18\", \"ticker\": \"IBM\", \"price\": 107.18}\nMessage delivered to market_data [Partition: 5] at Offset: 1662\nPublished: {\"timestamp\": \"2025-01-07T15:12:24\", \"ticker\": \"IBM\", \"price\": 114.53}\nMessage delivered to market_data [Partition: 5] at Offset: 1663\nPublished: {\"timestamp\": \"2025-01-07T15:12:29\", \"ticker\": \"IBM\", \"price\": 110.88}\nMessage delivered to market_data [Partition: 5] at Offset: 1664\nPublished: {\"timestamp\": \"2025-01-07T15:12:34\", \"ticker\": \"IBM\", \"price\": 115.73}\nMessage delivered to market_data [Partition: 5] at Offset: 1665\nPublished: {\"timestamp\": \"2025-01-07T15:12:39\", \"ticker\": \"IBM\", \"price\": 114.3}\nMessage delivered to market_data [Partition: 5] at Offset: 1666\nPublished: {\"timestamp\": \"2025-01-07T15:12:44\", \"ticker\": \"IBM\", \"price\": 117.9}\nMessage delivered to market_data [Partition: 5] at Offset: 1667\nPublished: {\"timestamp\": \"2025-01-07T15:12:49\", \"ticker\": \"IBM\", \"price\": 120.32}\nMessage delivered to market_data [Partition: 5] at Offset: 1668\nPublished: {\"timestamp\": \"2025-01-07T15:12:54\", \"ticker\": \"IBM\", \"price\": 113.13}\nMessage delivered to market_data [Partition: 5] at Offset: 1669\nPublished: {\"timestamp\": \"2025-01-07T15:12:59\", \"ticker\": \"IBM\", \"price\": 113.97}\nMessage delivered to market_data [Partition: 5] at Offset: 1670\nPublished: {\"timestamp\": \"2025-01-07T15:13:04\", \"ticker\": \"IBM\", \"price\": 114.88}\nMessage delivered to market_data [Partition: 5] at Offset: 1671\nPublished: {\"timestamp\": \"2025-01-07T15:13:09\", \"ticker\": \"IBM\", \"price\": 115.97}\nMessage delivered to market_data [Partition: 5] at Offset: 1672\nPublished: {\"timestamp\": \"2025-01-07T15:13:14\", \"ticker\": \"IBM\", \"price\": 123.56}\nMessage delivered to market_data [Partition: 5] at Offset: 1673\nPublished: {\"timestamp\": \"2025-01-07T15:13:19\", \"ticker\": \"IBM\", \"price\": 122.21}\nMessage delivered to market_data [Partition: 5] at Offset: 1674\nPublished: {\"timestamp\": \"2025-01-07T15:13:24\", \"ticker\": \"IBM\", \"price\": 117.91}\nMessage delivered to market_data [Partition: 5] at Offset: 1675\nPublished: {\"timestamp\": \"2025-01-07T15:13:29\", \"ticker\": \"IBM\", \"price\": 118.69}\nMessage delivered to market_data [Partition: 5] at Offset: 1676\nPublished: {\"timestamp\": \"2025-01-07T15:13:34\", \"ticker\": \"IBM\", \"price\": 117.57}\nMessage delivered to market_data [Partition: 5] at Offset: 1677\nPublished: {\"timestamp\": \"2025-01-07T15:13:39\", \"ticker\": \"IBM\", \"price\": 116.85}\nMessage delivered to market_data [Partition: 5] at Offset: 1678\nPublished: {\"timestamp\": \"2025-01-07T15:13:44\", \"ticker\": \"IBM\", \"price\": 114.9}\nMessage delivered to market_data [Partition: 5] at Offset: 1679\nPublished: {\"timestamp\": \"2025-01-07T15:13:49\", \"ticker\": \"IBM\", \"price\": 114.09}\nMessage delivered to market_data [Partition: 5] at Offset: 1680\nPublished: {\"timestamp\": \"2025-01-07T15:13:54\", \"ticker\": \"IBM\", \"price\": 119.26}\nMessage delivered to market_data [Partition: 5] at Offset: 1681\nPublished: {\"timestamp\": \"2025-01-07T15:13:59\", \"ticker\": \"IBM\", \"price\": 117.16}\nMessage delivered to market_data [Partition: 5] at Offset: 1682\nPublished: {\"timestamp\": \"2025-01-07T15:14:04\", \"ticker\": \"IBM\", \"price\": 108.2}\nMessage delivered to market_data [Partition: 5] at Offset: 1683\nPublished: {\"timestamp\": \"2025-01-07T15:14:09\", \"ticker\": \"IBM\", \"price\": 107.88}\nMessage delivered to market_data [Partition: 5] at Offset: 1684\nPublished: {\"timestamp\": \"2025-01-07T15:14:14\", \"ticker\": \"IBM\", \"price\": 106.69}\nMessage delivered to market_data [Partition: 5] at Offset: 1685\nPublished: {\"timestamp\": \"2025-01-07T15:14:19\", \"ticker\": \"IBM\", \"price\": 110.89}\nMessage delivered to market_data [Partition: 5] at Offset: 1686\nPublished: {\"timestamp\": \"2025-01-07T15:14:24\", \"ticker\": \"IBM\", \"price\": 105.74}\nMessage delivered to market_data [Partition: 5] at Offset: 1687\nPublished: {\"timestamp\": \"2025-01-07T15:14:29\", \"ticker\": \"IBM\", \"price\": 99.11}\nMessage delivered to market_data [Partition: 5] at Offset: 1688\nPublished: {\"timestamp\": \"2025-01-07T15:14:34\", \"ticker\": \"IBM\", \"price\": 103.56}\nMessage delivered to market_data [Partition: 5] at Offset: 1689\nPublished: {\"timestamp\": \"2025-01-07T15:14:39\", \"ticker\": \"IBM\", \"price\": 100.46}\nMessage delivered to market_data [Partition: 5] at Offset: 1690\nPublished: {\"timestamp\": \"2025-01-07T15:14:44\", \"ticker\": \"IBM\", \"price\": 96.96}\nMessage delivered to market_data [Partition: 5] at Offset: 1691\nPublished: {\"timestamp\": \"2025-01-07T15:14:49\", \"ticker\": \"IBM\", \"price\": 90.5}\nMessage delivered to market_data [Partition: 5] at Offset: 1692\nPublished: {\"timestamp\": \"2025-01-07T15:14:54\", \"ticker\": \"IBM\", \"price\": 94.27}\nMessage delivered to market_data [Partition: 5] at Offset: 1693\nPublished: {\"timestamp\": \"2025-01-07T15:14:59\", \"ticker\": \"IBM\", \"price\": 87.91}\nMessage delivered to market_data [Partition: 5] at Offset: 1694\nPublished: {\"timestamp\": \"2025-01-07T15:15:04\", \"ticker\": \"IBM\", \"price\": 86.8}\nMessage delivered to market_data [Partition: 5] at Offset: 1695\nPublished: {\"timestamp\": \"2025-01-07T15:15:09\", \"ticker\": \"IBM\", \"price\": 85.44}\nMessage delivered to market_data [Partition: 5] at Offset: 1696\nPublished: {\"timestamp\": \"2025-01-07T15:15:14\", \"ticker\": \"IBM\", \"price\": 81.82}\nMessage delivered to market_data [Partition: 5] at Offset: 1697\nPublished: {\"timestamp\": \"2025-01-07T15:15:19\", \"ticker\": \"IBM\", \"price\": 87.3}\nMessage delivered to market_data [Partition: 5] at Offset: 1698\nPublished: {\"timestamp\": \"2025-01-07T15:15:24\", \"ticker\": \"IBM\", \"price\": 83.5}\nMessage delivered to market_data [Partition: 5] at Offset: 1699\nPublished: {\"timestamp\": \"2025-01-07T15:15:29\", \"ticker\": \"IBM\", \"price\": 78.01}\nMessage delivered to market_data [Partition: 5] at Offset: 1700\nPublished: {\"timestamp\": \"2025-01-07T15:15:34\", \"ticker\": \"IBM\", \"price\": 86.66}\nMessage delivered to market_data [Partition: 5] at Offset: 1701\nPublished: {\"timestamp\": \"2025-01-07T15:15:39\", \"ticker\": \"IBM\", \"price\": 78.54}\nMessage delivered to market_data [Partition: 5] at Offset: 1702\nPublished: {\"timestamp\": \"2025-01-07T15:15:44\", \"ticker\": \"IBM\", \"price\": 85.1}\nMessage delivered to market_data [Partition: 5] at Offset: 1703\nPublished: {\"timestamp\": \"2025-01-07T15:15:49\", \"ticker\": \"IBM\", \"price\": 78.48}\nMessage delivered to market_data [Partition: 5] at Offset: 1704\nPublished: {\"timestamp\": \"2025-01-07T15:15:54\", \"ticker\": \"IBM\", \"price\": 84.4}\nMessage delivered to market_data [Partition: 5] at Offset: 1705\nPublished: {\"timestamp\": \"2025-01-07T15:15:59\", \"ticker\": \"IBM\", \"price\": 78.52}\nMessage delivered to market_data [Partition: 5] at Offset: 1706\nPublished: {\"timestamp\": \"2025-01-07T15:16:04\", \"ticker\": \"IBM\", \"price\": 81.08}\nMessage delivered to market_data [Partition: 5] at Offset: 1707\nPublished: {\"timestamp\": \"2025-01-07T15:16:09\", \"ticker\": \"IBM\", \"price\": 83.21}\nMessage delivered to market_data [Partition: 5] at Offset: 1708\nPublished: {\"timestamp\": \"2025-01-07T15:16:14\", \"ticker\": \"IBM\", \"price\": 81.68}\nMessage delivered to market_data [Partition: 5] at Offset: 1709\nPublished: {\"timestamp\": \"2025-01-07T15:16:19\", \"ticker\": \"IBM\", \"price\": 87.33}\nMessage delivered to market_data [Partition: 5] at Offset: 1710\nPublished: {\"timestamp\": \"2025-01-07T15:16:24\", \"ticker\": \"IBM\", \"price\": 87.88}\nMessage delivered to market_data [Partition: 5] at Offset: 1711\nPublished: {\"timestamp\": \"2025-01-07T15:16:29\", \"ticker\": \"IBM\", \"price\": 83.33}\nMessage delivered to market_data [Partition: 5] at Offset: 1712\nPublished: {\"timestamp\": \"2025-01-07T15:16:34\", \"ticker\": \"IBM\", \"price\": 81.78}\nMessage delivered to market_data [Partition: 5] at Offset: 1713\nPublished: {\"timestamp\": \"2025-01-07T15:16:39\", \"ticker\": \"IBM\", \"price\": 86.24}\nMessage delivered to market_data [Partition: 5] at Offset: 1714\nPublished: {\"timestamp\": \"2025-01-07T15:16:44\", \"ticker\": \"IBM\", \"price\": 92.9}\nMessage delivered to market_data [Partition: 5] at Offset: 1715\nPublished: {\"timestamp\": \"2025-01-07T15:16:49\", \"ticker\": \"IBM\", \"price\": 86.35}\nMessage delivered to market_data [Partition: 5] at Offset: 1716\nPublished: {\"timestamp\": \"2025-01-07T15:16:54\", \"ticker\": \"IBM\", \"price\": 94.93}\nMessage delivered to market_data [Partition: 5] at Offset: 1717\nPublished: {\"timestamp\": \"2025-01-07T15:16:59\", \"ticker\": \"IBM\", \"price\": 98.84}\nMessage delivered to market_data [Partition: 5] at Offset: 1718\nPublished: {\"timestamp\": \"2025-01-07T15:17:04\", \"ticker\": \"IBM\", \"price\": 92.62}\nMessage delivered to market_data [Partition: 5] at Offset: 1719\nPublished: {\"timestamp\": \"2025-01-07T15:17:09\", \"ticker\": \"IBM\", \"price\": 101.69}\nMessage delivered to market_data [Partition: 5] at Offset: 1720\nPublished: {\"timestamp\": \"2025-01-07T15:17:14\", \"ticker\": \"IBM\", \"price\": 97.28}\nMessage delivered to market_data [Partition: 5] at Offset: 1721\nPublished: {\"timestamp\": \"2025-01-07T15:17:19\", \"ticker\": \"IBM\", \"price\": 102.06}\nMessage delivered to market_data [Partition: 5] at Offset: 1722\nPublished: {\"timestamp\": \"2025-01-07T15:17:24\", \"ticker\": \"IBM\", \"price\": 107.27}\nMessage delivered to market_data [Partition: 5] at Offset: 1723\nPublished: {\"timestamp\": \"2025-01-07T15:17:29\", \"ticker\": \"IBM\", \"price\": 108.54}\nMessage delivered to market_data [Partition: 5] at Offset: 1724\nPublished: {\"timestamp\": \"2025-01-07T15:17:34\", \"ticker\": \"IBM\", \"price\": 107.2}\nMessage delivered to market_data [Partition: 5] at Offset: 1725\nPublished: {\"timestamp\": \"2025-01-07T15:17:39\", \"ticker\": \"IBM\", \"price\": 112.8}\nMessage delivered to market_data [Partition: 5] at Offset: 1726\nPublished: {\"timestamp\": \"2025-01-07T15:17:44\", \"ticker\": \"IBM\", \"price\": 111.86}\nMessage delivered to market_data [Partition: 5] at Offset: 1727\nPublished: {\"timestamp\": \"2025-01-07T15:17:49\", \"ticker\": \"IBM\", \"price\": 115.25}\nMessage delivered to market_data [Partition: 5] at Offset: 1728\nPublished: {\"timestamp\": \"2025-01-07T15:17:54\", \"ticker\": \"IBM\", \"price\": 115.42}\nMessage delivered to market_data [Partition: 5] at Offset: 1729\nPublished: {\"timestamp\": \"2025-01-07T15:17:59\", \"ticker\": \"IBM\", \"price\": 117.61}\nMessage delivered to market_data [Partition: 5] at Offset: 1730\nPublished: {\"timestamp\": \"2025-01-07T15:18:04\", \"ticker\": \"IBM\", \"price\": 119.72}\nMessage delivered to market_data [Partition: 5] at Offset: 1731\nPublished: {\"timestamp\": \"2025-01-07T15:18:09\", \"ticker\": \"IBM\", \"price\": 113.38}\nMessage delivered to market_data [Partition: 5] at Offset: 1732\nPublished: {\"timestamp\": \"2025-01-07T15:18:14\", \"ticker\": \"IBM\", \"price\": 118.74}\nMessage delivered to market_data [Partition: 5] at Offset: 1733\nPublished: {\"timestamp\": \"2025-01-07T15:18:19\", \"ticker\": \"IBM\", \"price\": 115.36}\nMessage delivered to market_data [Partition: 5] at Offset: 1734\nPublished: {\"timestamp\": \"2025-01-07T15:18:24\", \"ticker\": \"IBM\", \"price\": 116.64}\nMessage delivered to market_data [Partition: 5] at Offset: 1735\nPublished: {\"timestamp\": \"2025-01-07T15:18:29\", \"ticker\": \"IBM\", \"price\": 121.99}\nMessage delivered to market_data [Partition: 5] at Offset: 1736\nPublished: {\"timestamp\": \"2025-01-07T15:18:34\", \"ticker\": \"IBM\", \"price\": 118.41}\nMessage delivered to market_data [Partition: 5] at Offset: 1737\nPublished: {\"timestamp\": \"2025-01-07T15:18:39\", \"ticker\": \"IBM\", \"price\": 114.84}\nMessage delivered to market_data [Partition: 5] at Offset: 1738\nPublished: {\"timestamp\": \"2025-01-07T15:18:44\", \"ticker\": \"IBM\", \"price\": 118.99}\nMessage delivered to market_data [Partition: 5] at Offset: 1739\nPublished: {\"timestamp\": \"2025-01-07T15:18:49\", \"ticker\": \"IBM\", \"price\": 121.15}\nMessage delivered to market_data [Partition: 5] at Offset: 1740\nPublished: {\"timestamp\": \"2025-01-07T15:18:54\", \"ticker\": \"IBM\", \"price\": 114.18}\nMessage delivered to market_data [Partition: 5] at Offset: 1741\nPublished: {\"timestamp\": \"2025-01-07T15:18:59\", \"ticker\": \"IBM\", \"price\": 118.61}\nMessage delivered to market_data [Partition: 5] at Offset: 1742\nPublished: {\"timestamp\": \"2025-01-07T15:19:04\", \"ticker\": \"IBM\", \"price\": 110.97}\nMessage delivered to market_data [Partition: 5] at Offset: 1743\nPublished: {\"timestamp\": \"2025-01-07T15:19:09\", \"ticker\": \"IBM\", \"price\": 117.13}\nMessage delivered to market_data [Partition: 5] at Offset: 1744\nPublished: {\"timestamp\": \"2025-01-07T15:19:14\", \"ticker\": \"IBM\", \"price\": 116.18}\nMessage delivered to market_data [Partition: 5] at Offset: 1745\nPublished: {\"timestamp\": \"2025-01-07T15:19:19\", \"ticker\": \"IBM\", \"price\": 107.95}\nMessage delivered to market_data [Partition: 5] at Offset: 1746\nPublished: {\"timestamp\": \"2025-01-07T15:19:24\", \"ticker\": \"IBM\", \"price\": 111.9}\nMessage delivered to market_data [Partition: 5] at Offset: 1747\nPublished: {\"timestamp\": \"2025-01-07T15:19:29\", \"ticker\": \"IBM\", \"price\": 106.79}\nMessage delivered to market_data [Partition: 5] at Offset: 1748\nPublished: {\"timestamp\": \"2025-01-07T15:19:34\", \"ticker\": \"IBM\", \"price\": 111.29}\nMessage delivered to market_data [Partition: 5] at Offset: 1749\nPublished: {\"timestamp\": \"2025-01-07T15:19:39\", \"ticker\": \"IBM\", \"price\": 106.8}\nMessage delivered to market_data [Partition: 5] at Offset: 1750\nPublished: {\"timestamp\": \"2025-01-07T15:19:44\", \"ticker\": \"IBM\", \"price\": 101.04}\nMessage delivered to market_data [Partition: 5] at Offset: 1751\nPublished: {\"timestamp\": \"2025-01-07T15:19:49\", \"ticker\": \"IBM\", \"price\": 102.38}\nMessage delivered to market_data [Partition: 5] at Offset: 1752\nPublished: {\"timestamp\": \"2025-01-07T15:19:54\", \"ticker\": \"IBM\", \"price\": 95.18}\nMessage delivered to market_data [Partition: 5] at Offset: 1753\nPublished: {\"timestamp\": \"2025-01-07T15:19:59\", \"ticker\": \"IBM\", \"price\": 92.08}\nMessage delivered to market_data [Partition: 5] at Offset: 1754\nPublished: {\"timestamp\": \"2025-01-07T15:20:04\", \"ticker\": \"IBM\", \"price\": 91.22}\nMessage delivered to market_data [Partition: 5] at Offset: 1755\nPublished: {\"timestamp\": \"2025-01-07T15:20:09\", \"ticker\": \"IBM\", \"price\": 97.02}\nMessage delivered to market_data [Partition: 5] at Offset: 1756\nPublished: {\"timestamp\": \"2025-01-07T15:20:14\", \"ticker\": \"IBM\", \"price\": 89.07}\nMessage delivered to market_data [Partition: 5] at Offset: 1757\nPublished: {\"timestamp\": \"2025-01-07T15:20:19\", \"ticker\": \"IBM\", \"price\": 84.68}\nMessage delivered to market_data [Partition: 5] at Offset: 1758\nPublished: {\"timestamp\": \"2025-01-07T15:20:24\", \"ticker\": \"IBM\", \"price\": 85.72}\nMessage delivered to market_data [Partition: 5] at Offset: 1759\nPublished: {\"timestamp\": \"2025-01-07T15:20:29\", \"ticker\": \"IBM\", \"price\": 84.66}\nMessage delivered to market_data [Partition: 5] at Offset: 1760\nPublished: {\"timestamp\": \"2025-01-07T15:20:34\", \"ticker\": \"IBM\", \"price\": 83.45}\nMessage delivered to market_data [Partition: 5] at Offset: 1761\nPublished: {\"timestamp\": \"2025-01-07T15:20:39\", \"ticker\": \"IBM\", \"price\": 83.43}\nMessage delivered to market_data [Partition: 5] at Offset: 1762\nPublished: {\"timestamp\": \"2025-01-07T15:20:44\", \"ticker\": \"IBM\", \"price\": 82.63}\nMessage delivered to market_data [Partition: 5] at Offset: 1763\nPublished: {\"timestamp\": \"2025-01-07T15:20:49\", \"ticker\": \"IBM\", \"price\": 85.43}\nMessage delivered to market_data [Partition: 5] at Offset: 1764\nPublished: {\"timestamp\": \"2025-01-07T15:20:54\", \"ticker\": \"IBM\", \"price\": 78.22}\nMessage delivered to market_data [Partition: 5] at Offset: 1765\nPublished: {\"timestamp\": \"2025-01-07T15:20:59\", \"ticker\": \"IBM\", \"price\": 81.59}\nMessage delivered to market_data [Partition: 5] at Offset: 1766\nPublished: {\"timestamp\": \"2025-01-07T15:21:04\", \"ticker\": \"IBM\", \"price\": 77.51}\nMessage delivered to market_data [Partition: 5] at Offset: 1767\nPublished: {\"timestamp\": \"2025-01-07T15:21:09\", \"ticker\": \"IBM\", \"price\": 77.47}\nMessage delivered to market_data [Partition: 5] at Offset: 1768\nPublished: {\"timestamp\": \"2025-01-07T15:21:14\", \"ticker\": \"IBM\", \"price\": 79.27}\nMessage delivered to market_data [Partition: 5] at Offset: 1769\nPublished: {\"timestamp\": \"2025-01-07T15:21:19\", \"ticker\": \"IBM\", \"price\": 75.58}\nMessage delivered to market_data [Partition: 5] at Offset: 1770\nPublished: {\"timestamp\": \"2025-01-07T15:21:24\", \"ticker\": \"IBM\", \"price\": 78.92}\nMessage delivered to market_data [Partition: 5] at Offset: 1771\nPublished: {\"timestamp\": \"2025-01-07T15:21:29\", \"ticker\": \"IBM\", \"price\": 84.64}\nMessage delivered to market_data [Partition: 5] at Offset: 1772\nPublished: {\"timestamp\": \"2025-01-07T15:21:34\", \"ticker\": \"IBM\", \"price\": 81.29}\nMessage delivered to market_data [Partition: 5] at Offset: 1773\nPublished: {\"timestamp\": \"2025-01-07T15:21:39\", \"ticker\": \"IBM\", \"price\": 81.06}\nMessage delivered to market_data [Partition: 5] at Offset: 1774\nPublished: {\"timestamp\": \"2025-01-07T15:21:44\", \"ticker\": \"IBM\", \"price\": 87.62}\nMessage delivered to market_data [Partition: 5] at Offset: 1775\nPublished: {\"timestamp\": \"2025-01-07T15:21:49\", \"ticker\": \"IBM\", \"price\": 86.41}\nMessage delivered to market_data [Partition: 5] at Offset: 1776\nPublished: {\"timestamp\": \"2025-01-07T15:21:54\", \"ticker\": \"IBM\", \"price\": 89.48}\nMessage delivered to market_data [Partition: 5] at Offset: 1777\nPublished: {\"timestamp\": \"2025-01-07T15:21:59\", \"ticker\": \"IBM\", \"price\": 91.05}\nMessage delivered to market_data [Partition: 5] at Offset: 1778\nPublished: {\"timestamp\": \"2025-01-07T15:22:04\", \"ticker\": \"IBM\", \"price\": 90.87}\nMessage delivered to market_data [Partition: 5] at Offset: 1779\nPublished: {\"timestamp\": \"2025-01-07T15:22:09\", \"ticker\": \"IBM\", \"price\": 89.93}\nMessage delivered to market_data [Partition: 5] at Offset: 1780\nPublished: {\"timestamp\": \"2025-01-07T15:22:14\", \"ticker\": \"IBM\", \"price\": 95.91}\nMessage delivered to market_data [Partition: 5] at Offset: 1781\nPublished: {\"timestamp\": \"2025-01-07T15:22:19\", \"ticker\": \"IBM\", \"price\": 95.59}\nMessage delivered to market_data [Partition: 5] at Offset: 1782\nPublished: {\"timestamp\": \"2025-01-07T15:22:24\", \"ticker\": \"IBM\", \"price\": 95.33}\nMessage delivered to market_data [Partition: 5] at Offset: 1783\nPublished: {\"timestamp\": \"2025-01-07T15:22:29\", \"ticker\": \"IBM\", \"price\": 103.2}\nMessage delivered to market_data [Partition: 5] at Offset: 1784\nPublished: {\"timestamp\": \"2025-01-07T15:22:34\", \"ticker\": \"IBM\", \"price\": 107.63}\nMessage delivered to market_data [Partition: 5] at Offset: 1785\nPublished: {\"timestamp\": \"2025-01-07T15:22:39\", \"ticker\": \"IBM\", \"price\": 105.43}\nMessage delivered to market_data [Partition: 5] at Offset: 1786\nPublished: {\"timestamp\": \"2025-01-07T15:22:44\", \"ticker\": \"IBM\", \"price\": 104.59}\nMessage delivered to market_data [Partition: 5] at Offset: 1787\nPublished: {\"timestamp\": \"2025-01-07T15:22:49\", \"ticker\": \"IBM\", \"price\": 110.01}\nMessage delivered to market_data [Partition: 5] at Offset: 1788\nPublished: {\"timestamp\": \"2025-01-07T15:22:54\", \"ticker\": \"IBM\", \"price\": 113.98}\nMessage delivered to market_data [Partition: 5] at Offset: 1789\nPublished: {\"timestamp\": \"2025-01-07T15:22:59\", \"ticker\": \"IBM\", \"price\": 114.15}\nMessage delivered to market_data [Partition: 5] at Offset: 1790\nPublished: {\"timestamp\": \"2025-01-07T15:23:04\", \"ticker\": \"IBM\", \"price\": 113.62}\nMessage delivered to market_data [Partition: 5] at Offset: 1791\nPublished: {\"timestamp\": \"2025-01-07T15:23:09\", \"ticker\": \"IBM\", \"price\": 113.8}\nMessage delivered to market_data [Partition: 5] at Offset: 1792\nPublished: {\"timestamp\": \"2025-01-07T15:23:14\", \"ticker\": \"IBM\", \"price\": 112.63}\nMessage delivered to market_data [Partition: 5] at Offset: 1793\nPublished: {\"timestamp\": \"2025-01-07T15:23:19\", \"ticker\": \"IBM\", \"price\": 119.34}\nMessage delivered to market_data [Partition: 5] at Offset: 1794\nPublished: {\"timestamp\": \"2025-01-07T15:23:24\", \"ticker\": \"IBM\", \"price\": 113.85}\nMessage delivered to market_data [Partition: 5] at Offset: 1795\nPublished: {\"timestamp\": \"2025-01-07T15:23:29\", \"ticker\": \"IBM\", \"price\": 116.36}\nMessage delivered to market_data [Partition: 5] at Offset: 1796\nPublished: {\"timestamp\": \"2025-01-07T15:23:34\", \"ticker\": \"IBM\", \"price\": 118.34}\nMessage delivered to market_data [Partition: 5] at Offset: 1797\nPublished: {\"timestamp\": \"2025-01-07T15:23:39\", \"ticker\": \"IBM\", \"price\": 116.58}\nMessage delivered to market_data [Partition: 5] at Offset: 1798\nPublished: {\"timestamp\": \"2025-01-07T15:23:44\", \"ticker\": \"IBM\", \"price\": 117.56}\nMessage delivered to market_data [Partition: 5] at Offset: 1799\nPublished: {\"timestamp\": \"2025-01-07T15:23:49\", \"ticker\": \"IBM\", \"price\": 124.69}\nMessage delivered to market_data [Partition: 5] at Offset: 1800\nPublished: {\"timestamp\": \"2025-01-07T15:23:54\", \"ticker\": \"IBM\", \"price\": 118.73}\nMessage delivered to market_data [Partition: 5] at Offset: 1801\nPublished: {\"timestamp\": \"2025-01-07T15:23:59\", \"ticker\": \"IBM\", \"price\": 118.36}\nMessage delivered to market_data [Partition: 5] at Offset: 1802\nPublished: {\"timestamp\": \"2025-01-07T15:24:04\", \"ticker\": \"IBM\", \"price\": 122.21}\nMessage delivered to market_data [Partition: 5] at Offset: 1803\nPublished: {\"timestamp\": \"2025-01-07T15:24:09\", \"ticker\": \"IBM\", \"price\": 119.88}\nMessage delivered to market_data [Partition: 5] at Offset: 1804\nPublished: {\"timestamp\": \"2025-01-07T15:24:14\", \"ticker\": \"IBM\", \"price\": 115.56}\nMessage delivered to market_data [Partition: 5] at Offset: 1805\nPublished: {\"timestamp\": \"2025-01-07T15:24:19\", \"ticker\": \"IBM\", \"price\": 119.27}\nMessage delivered to market_data [Partition: 5] at Offset: 1806\nPublished: {\"timestamp\": \"2025-01-07T15:24:24\", \"ticker\": \"IBM\", \"price\": 113.18}\nMessage delivered to market_data [Partition: 5] at Offset: 1807\nPublished: {\"timestamp\": \"2025-01-07T15:24:29\", \"ticker\": \"IBM\", \"price\": 111.9}\nMessage delivered to market_data [Partition: 5] at Offset: 1808\nPublished: {\"timestamp\": \"2025-01-07T15:24:34\", \"ticker\": \"IBM\", \"price\": 111.61}\nMessage delivered to market_data [Partition: 5] at Offset: 1809\nPublished: {\"timestamp\": \"2025-01-07T15:24:39\", \"ticker\": \"IBM\", \"price\": 110.99}\nMessage delivered to market_data [Partition: 5] at Offset: 1810\nPublished: {\"timestamp\": \"2025-01-07T15:24:44\", \"ticker\": \"IBM\", \"price\": 110.21}\nMessage delivered to market_data [Partition: 5] at Offset: 1811\nPublished: {\"timestamp\": \"2025-01-07T15:24:49\", \"ticker\": \"IBM\", \"price\": 110.43}\nMessage delivered to market_data [Partition: 5] at Offset: 1812\nPublished: {\"timestamp\": \"2025-01-07T15:24:54\", \"ticker\": \"IBM\", \"price\": 104.8}\nMessage delivered to market_data [Partition: 5] at Offset: 1813\nPublished: {\"timestamp\": \"2025-01-07T15:24:59\", \"ticker\": \"IBM\", \"price\": 100.35}\nMessage delivered to market_data [Partition: 5] at Offset: 1814\nPublished: {\"timestamp\": \"2025-01-07T15:25:04\", \"ticker\": \"IBM\", \"price\": 102.68}\nMessage delivered to market_data [Partition: 5] at Offset: 1815\nPublished: {\"timestamp\": \"2025-01-07T15:25:09\", \"ticker\": \"IBM\", \"price\": 93.92}\nMessage delivered to market_data [Partition: 5] at Offset: 1816\nPublished: {\"timestamp\": \"2025-01-07T15:25:14\", \"ticker\": \"IBM\", \"price\": 96.66}\nMessage delivered to market_data [Partition: 5] at Offset: 1817\nPublished: {\"timestamp\": \"2025-01-07T15:25:19\", \"ticker\": \"IBM\", \"price\": 96.98}\nMessage delivered to market_data [Partition: 5] at Offset: 1818\nPublished: {\"timestamp\": \"2025-01-07T15:25:24\", \"ticker\": \"IBM\", \"price\": 95.67}\nMessage delivered to market_data [Partition: 5] at Offset: 1819\nPublished: {\"timestamp\": \"2025-01-07T15:25:29\", \"ticker\": \"IBM\", \"price\": 93.59}\nMessage delivered to market_data [Partition: 5] at Offset: 1820\nPublished: {\"timestamp\": \"2025-01-07T15:25:34\", \"ticker\": \"IBM\", \"price\": 88.26}\nMessage delivered to market_data [Partition: 5] at Offset: 1821\nPublished: {\"timestamp\": \"2025-01-07T15:25:39\", \"ticker\": \"IBM\", \"price\": 90.19}\nMessage delivered to market_data [Partition: 5] at Offset: 1822\nPublished: {\"timestamp\": \"2025-01-07T15:25:44\", \"ticker\": \"IBM\", \"price\": 82.6}\nMessage delivered to market_data [Partition: 5] at Offset: 1823\nPublished: {\"timestamp\": \"2025-01-07T15:25:49\", \"ticker\": \"IBM\", \"price\": 88.49}\nMessage delivered to market_data [Partition: 5] at Offset: 1824\nPublished: {\"timestamp\": \"2025-01-07T15:25:54\", \"ticker\": \"IBM\", \"price\": 78.62}\nMessage delivered to market_data [Partition: 5] at Offset: 1825\nPublished: {\"timestamp\": \"2025-01-07T15:25:59\", \"ticker\": \"IBM\", \"price\": 81.6}\nMessage delivered to market_data [Partition: 5] at Offset: 1826\nPublished: {\"timestamp\": \"2025-01-07T15:26:04\", \"ticker\": \"IBM\", \"price\": 80.24}\nMessage delivered to market_data [Partition: 5] at Offset: 1827\nPublished: {\"timestamp\": \"2025-01-07T15:26:09\", \"ticker\": \"IBM\", \"price\": 85.73}\nMessage delivered to market_data [Partition: 5] at Offset: 1828\nPublished: {\"timestamp\": \"2025-01-07T15:26:15\", \"ticker\": \"IBM\", \"price\": 79.15}\nMessage delivered to market_data [Partition: 5] at Offset: 1829\nPublished: {\"timestamp\": \"2025-01-07T15:26:20\", \"ticker\": \"IBM\", \"price\": 79.74}\nMessage delivered to market_data [Partition: 5] at Offset: 1830\nPublished: {\"timestamp\": \"2025-01-07T15:26:25\", \"ticker\": \"IBM\", \"price\": 84.52}\nMessage delivered to market_data [Partition: 5] at Offset: 1831\nPublished: {\"timestamp\": \"2025-01-07T15:26:30\", \"ticker\": \"IBM\", \"price\": 80.66}\nMessage delivered to market_data [Partition: 5] at Offset: 1832\nPublished: {\"timestamp\": \"2025-01-07T15:26:35\", \"ticker\": \"IBM\", \"price\": 78.06}\nMessage delivered to market_data [Partition: 5] at Offset: 1833\nPublished: {\"timestamp\": \"2025-01-07T15:26:40\", \"ticker\": \"IBM\", \"price\": 85.93}\nMessage delivered to market_data [Partition: 5] at Offset: 1834\nPublished: {\"timestamp\": \"2025-01-07T15:26:45\", \"ticker\": \"IBM\", \"price\": 83.32}\nMessage delivered to market_data [Partition: 5] at Offset: 1835\nPublished: {\"timestamp\": \"2025-01-07T15:26:50\", \"ticker\": \"IBM\", \"price\": 86.54}\nMessage delivered to market_data [Partition: 5] at Offset: 1836\nPublished: {\"timestamp\": \"2025-01-07T15:26:55\", \"ticker\": \"IBM\", \"price\": 83.26}\nMessage delivered to market_data [Partition: 5] at Offset: 1837\nPublished: {\"timestamp\": \"2025-01-07T15:27:00\", \"ticker\": \"IBM\", \"price\": 88.39}\nMessage delivered to market_data [Partition: 5] at Offset: 1838\nPublished: {\"timestamp\": \"2025-01-07T15:27:05\", \"ticker\": \"IBM\", \"price\": 82.89}\nMessage delivered to market_data [Partition: 5] at Offset: 1839\nPublished: {\"timestamp\": \"2025-01-07T15:27:10\", \"ticker\": \"IBM\", \"price\": 92.85}\nMessage delivered to market_data [Partition: 5] at Offset: 1840\nPublished: {\"timestamp\": \"2025-01-07T15:27:15\", \"ticker\": \"IBM\", \"price\": 91.66}\nMessage delivered to market_data [Partition: 5] at Offset: 1841\nPublished: {\"timestamp\": \"2025-01-07T15:27:20\", \"ticker\": \"IBM\", \"price\": 94.78}\nMessage delivered to market_data [Partition: 5] at Offset: 1842\nPublished: {\"timestamp\": \"2025-01-07T15:27:25\", \"ticker\": \"IBM\", \"price\": 96.73}\nMessage delivered to market_data [Partition: 5] at Offset: 1843\nPublished: {\"timestamp\": \"2025-01-07T15:27:30\", \"ticker\": \"IBM\", \"price\": 94.15}\nMessage delivered to market_data [Partition: 5] at Offset: 1844\nPublished: {\"timestamp\": \"2025-01-07T15:27:35\", \"ticker\": \"IBM\", \"price\": 97.4}\nMessage delivered to market_data [Partition: 5] at Offset: 1845\nPublished: {\"timestamp\": \"2025-01-07T15:27:40\", \"ticker\": \"IBM\", \"price\": 100.8}\nMessage delivered to market_data [Partition: 5] at Offset: 1846\nPublished: {\"timestamp\": \"2025-01-07T15:27:45\", \"ticker\": \"IBM\", \"price\": 97.81}\nMessage delivered to market_data [Partition: 5] at Offset: 1847\nPublished: {\"timestamp\": \"2025-01-07T15:27:50\", \"ticker\": \"IBM\", \"price\": 106.71}\nMessage delivered to market_data [Partition: 5] at Offset: 1848\nPublished: {\"timestamp\": \"2025-01-07T15:27:55\", \"ticker\": \"IBM\", \"price\": 107.54}\nMessage delivered to market_data [Partition: 5] at Offset: 1849\nPublished: {\"timestamp\": \"2025-01-07T15:28:00\", \"ticker\": \"IBM\", \"price\": 109.06}\nMessage delivered to market_data [Partition: 5] at Offset: 1850\nPublished: {\"timestamp\": \"2025-01-07T15:28:05\", \"ticker\": \"IBM\", \"price\": 112.46}\nMessage delivered to market_data [Partition: 5] at Offset: 1851\nPublished: {\"timestamp\": \"2025-01-07T15:28:10\", \"ticker\": \"IBM\", \"price\": 106.13}\nMessage delivered to market_data [Partition: 5] at Offset: 1852\nPublished: {\"timestamp\": \"2025-01-07T15:28:15\", \"ticker\": \"IBM\", \"price\": 108.72}\nMessage delivered to market_data [Partition: 5] at Offset: 1853\nPublished: {\"timestamp\": \"2025-01-07T15:28:20\", \"ticker\": \"IBM\", \"price\": 115.66}\nMessage delivered to market_data [Partition: 5] at Offset: 1854\nPublished: {\"timestamp\": \"2025-01-07T15:28:25\", \"ticker\": \"IBM\", \"price\": 114.42}\nMessage delivered to market_data [Partition: 5] at Offset: 1855\nPublished: {\"timestamp\": \"2025-01-07T15:28:30\", \"ticker\": \"IBM\", \"price\": 115.49}\nMessage delivered to market_data [Partition: 5] at Offset: 1856\n"
     ]
    }
   ],
   "source": [
    "import json\n",
    "import os\n",
    "import time\n",
    "from confluent_kafka import Producer\n",
    "import os\n",
    "\n",
    "# Set environment variables\n",
    "os.environ[\"KAFKA_BROKER\"] = \"pkc-921jm.us-east-2.aws.confluent.cloud:9092\"\n",
    "os.environ[\"KAFKA_TOPIC\"] = \"market_data\"\n",
    "os.environ[\"KAFKA_TOPIC_PROCESSED\"] = \"processed_data\"\n",
    "os.environ[\"KAFKA_API_KEY\"] = \"FFUTO33UE6P76HEB\"\n",
    "os.environ[\"KAFKA_API_SECRET\"] = \"qY5xvsluuxAhnUr0fNZsSOo/cpZ/9g2Ck4/M4gZeKU+mezzQ4UoANrGcS6IV9/9S\"\n",
    "\n",
    "# Set up the environment variables\n",
    "\n",
    "# Kafka producer configuration\n",
    "config = {\n",
    "    \"bootstrap.servers\": os.getenv(\"KAFKA_BROKER\"),\n",
    "    \"security.protocol\": \"SASL_SSL\",\n",
    "    \"sasl.mechanisms\": \"PLAIN\",\n",
    "    \"sasl.username\": os.getenv(\"KAFKA_API_KEY\"),\n",
    "    \"sasl.password\": os.getenv(\"KAFKA_API_SECRET\"),\n",
    "    \"client.id\": \"transaction-producer\",\n",
    "    \"acks\": \"all\",\n",
    "    \"retries\": 5,\n",
    "    \"batch.size\": 16384,\n",
    "    \"linger.ms\": 5,\n",
    "    \"compression.type\": \"gzip\",\n",
    "}\n",
    "\n",
    "# Initialize the Kafka producer\n",
    "producer = Producer(config)\n",
    "\n",
    "# Define the topic to send data to\n",
    "topic = os.getenv(\"KAFKA_TOPIC\")\n",
    "\n",
    "\n",
    "# Callback to handle delivery reports (called once for each message)\n",
    "def delivery_report(err, msg):\n",
    "    if err is not None:\n",
    "        print(f\"Message delivery failed: {err}\")\n",
    "    else:\n",
    "        print(\n",
    "            f\"Message delivered to {msg.topic()} [Partition: {msg.partition()}] at Offset: {msg.offset()}\"\n",
    "        )\n",
    "\n",
    "\n",
    "def publish_messages(max_messages, ticker_name, message_interval=5):\n",
    "    try:\n",
    "        print(f\"Publishing time series data to Kafka topic '{topic}'...\")\n",
    "        counter = 0\n",
    "        while True and counter <= max_messages:\n",
    "            key = ticker_name\n",
    "            value = json.dumps(generate_market_data(counter, ticker_name))\n",
    "            producer.produce(\n",
    "                topic=topic, key=key, value=value, callback=delivery_report\n",
    "            )\n",
    "            print(f\"Published: {value}\")\n",
    "            counter += 1\n",
    "\n",
    "            # Poll to trigger the delivery report callback\n",
    "            producer.poll(0)\n",
    "\n",
    "            time.sleep(message_interval)\n",
    "\n",
    "    except KeyboardInterrupt:\n",
    "        print(\"Stopped publishing.\")\n",
    "\n",
    "\n",
    "# Run the producer function\n",
    "if __name__ == \"__main__\":\n",
    "    publish_messages(1000, \"IBM\")\n"
   ]
  }
 ],
 "metadata": {
  "application/vnd.databricks.v1+notebook": {
   "computePreferences": null,
   "dashboards": [],
   "environmentMetadata": {
    "base_environment": "",
    "client": "1"
   },
   "language": "python",
   "notebookMetadata": {
    "pythonIndentUnit": 4
   },
   "notebookName": "Data Publishing",
   "widgets": {}
  }
 },
 "nbformat": 4,
 "nbformat_minor": 0
}
